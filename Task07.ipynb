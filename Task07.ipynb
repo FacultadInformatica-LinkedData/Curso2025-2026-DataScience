{
  "cells": [
    {
      "cell_type": "markdown",
      "metadata": {
        "id": "view-in-github",
        "colab_type": "text"
      },
      "source": [
        "<a href=\"https://colab.research.google.com/github/dusihan-hub/Curso2025-2026-DataScience/blob/Assignment4/Task07.ipynb\" target=\"_parent\"><img src=\"https://colab.research.google.com/assets/colab-badge.svg\" alt=\"Open In Colab\"/></a>"
      ]
    },
    {
      "cell_type": "markdown",
      "metadata": {
        "id": "nOOPLCHF7hLB"
      },
      "source": [
        "**Task 07: Querying RDF(s)**"
      ]
    },
    {
      "cell_type": "code",
      "execution_count": 1,
      "metadata": {
        "id": "Yl9npCt8n6m-",
        "colab": {
          "base_uri": "https://localhost:8080/"
        },
        "outputId": "bebb3167-ccf1-4a96-eba5-060833cd3e08"
      },
      "outputs": [
        {
          "output_type": "stream",
          "name": "stdout",
          "text": [
            "Collecting rdflib\n",
            "  Downloading rdflib-7.2.1-py3-none-any.whl.metadata (11 kB)\n",
            "Requirement already satisfied: pyparsing<4,>=2.1.0 in /usr/local/lib/python3.12/dist-packages (from rdflib) (3.2.5)\n",
            "Downloading rdflib-7.2.1-py3-none-any.whl (565 kB)\n",
            "\u001b[?25l   \u001b[90m━━━━━━━━━━━━━━━━━━━━━━━━━━━━━━━━━━━━━━━━\u001b[0m \u001b[32m0.0/565.4 kB\u001b[0m \u001b[31m?\u001b[0m eta \u001b[36m-:--:--\u001b[0m\r\u001b[2K   \u001b[91m━━━━━━━━━━━━━━━━━━━━━━━━━━━━━━━━━━━━━━━\u001b[0m\u001b[91m╸\u001b[0m \u001b[32m563.2/565.4 kB\u001b[0m \u001b[31m16.8 MB/s\u001b[0m eta \u001b[36m0:00:01\u001b[0m\r\u001b[2K   \u001b[90m━━━━━━━━━━━━━━━━━━━━━━━━━━━━━━━━━━━━━━━━\u001b[0m \u001b[32m565.4/565.4 kB\u001b[0m \u001b[31m11.8 MB/s\u001b[0m eta \u001b[36m0:00:00\u001b[0m\n",
            "\u001b[?25hInstalling collected packages: rdflib\n",
            "Successfully installed rdflib-7.2.1\n"
          ]
        }
      ],
      "source": [
        "!pip install rdflib\n",
        "import urllib.request\n",
        "url = 'https://raw.githubusercontent.com/FacultadInformatica-LinkedData/Curso2025-2026/refs/heads/master/Assignment4/course_materials/python/validation.py'\n",
        "urllib.request.urlretrieve(url, 'validation.py')\n",
        "github_storage = \"https://raw.githubusercontent.com/FacultadInformatica-LinkedData/Curso2025-2026/master/Assignment4/course_materials\""
      ]
    },
    {
      "cell_type": "code",
      "source": [
        "from validation import Report"
      ],
      "metadata": {
        "id": "FmnGjffDT92V"
      },
      "execution_count": 2,
      "outputs": []
    },
    {
      "cell_type": "markdown",
      "metadata": {
        "id": "XY7aPc86Bqoo"
      },
      "source": [
        "First let's read the RDF file"
      ]
    },
    {
      "cell_type": "code",
      "execution_count": 3,
      "metadata": {
        "id": "9ERh415on7kF"
      },
      "outputs": [],
      "source": [
        "from rdflib import Graph, Namespace, Literal\n",
        "from rdflib.namespace import RDF, RDFS\n",
        "# Do not change the name of the variables\n",
        "g = Graph()\n",
        "g.namespace_manager.bind('ns', Namespace(\"http://somewhere#\"), override=False)\n",
        "g.parse(github_storage+\"/rdf/data06.ttl\", format=\"TTL\")\n",
        "report = Report()"
      ]
    },
    {
      "cell_type": "markdown",
      "metadata": {
        "id": "qp1oe2Eddsvo"
      },
      "source": [
        "**TASK 7.1a: For all classes, list each classURI. If the class belogs to another class, then list its superclass.**\n",
        "**Do the exercise in RDFLib returning a list of Tuples: (class, superclass) called \"result\". If a class does not have a super class, then return None as the superclass**"
      ]
    },
    {
      "cell_type": "code",
      "execution_count": 6,
      "metadata": {
        "id": "tRcSWuMHOXBl",
        "colab": {
          "base_uri": "https://localhost:8080/"
        },
        "outputId": "2fd75f32-c8e8-483b-d92c-8adb77ce7f91"
      },
      "outputs": [
        {
          "output_type": "stream",
          "name": "stdout",
          "text": [
            "(rdflib.term.URIRef('http://oeg.fi.upm.es/def/people#InterimAssociateProfessor'), rdflib.term.URIRef('http://oeg.fi.upm.es/def/people#AssociateProfessor'))\n",
            "(rdflib.term.URIRef('http://oeg.fi.upm.es/def/people#FullProfessor'), rdflib.term.URIRef('http://oeg.fi.upm.es/def/people#Professor'))\n",
            "(rdflib.term.URIRef('http://oeg.fi.upm.es/def/people#Student'), rdflib.term.URIRef('http://oeg.fi.upm.es/def/people#Person'))\n",
            "(rdflib.term.URIRef('http://oeg.fi.upm.es/def/people#Professor'), rdflib.term.URIRef('http://oeg.fi.upm.es/def/people#Person'))\n",
            "(rdflib.term.URIRef('http://oeg.fi.upm.es/def/people#AssociateProfessor'), rdflib.term.URIRef('http://oeg.fi.upm.es/def/people#Professor'))\n",
            "(rdflib.term.URIRef('http://oeg.fi.upm.es/def/people#Person'), None)\n",
            "(rdflib.term.URIRef('http://www.w3.org/2000/01/rdf-schema#Class'), None)\n",
            "(rdflib.term.URIRef('http://oeg.fi.upm.es/def/people#Animal'), None)\n"
          ]
        }
      ],
      "source": [
        "# TO DO\n",
        "classes = set()\n",
        "\n",
        "for c in g.subjects(RDF.type, RDFS.Class):\n",
        "    classes.add(c)\n",
        "\n",
        "for c in g.objects(None, RDF.type):\n",
        "    classes.add(c)\n",
        "\n",
        "result = []\n",
        "for c in classes:\n",
        "    superclass = None\n",
        "    for s in g.objects(c, RDFS.subClassOf):\n",
        "        superclass = s\n",
        "        break\n",
        "    result.append((c, superclass))\n",
        "\n",
        "# Visualize the results\n",
        "for r in result:\n",
        "  print(r)"
      ]
    },
    {
      "cell_type": "code",
      "source": [
        "## Validation: Do not remove\n",
        "report.validate_07_1a(result)"
      ],
      "metadata": {
        "id": "uvEpQQrTlMPH",
        "colab": {
          "base_uri": "https://localhost:8080/"
        },
        "outputId": "031cc877-f297-473c-d81a-ce72f4ea595e"
      },
      "execution_count": 7,
      "outputs": [
        {
          "output_type": "stream",
          "name": "stdout",
          "text": [
            "ERROR: The number of classes returned is not correct\n",
            "The class http://www.w3.org/2000/01/rdf-schema#Class has no superclass\n",
            "ERROR: incorrect class retrieved\n"
          ]
        }
      ]
    },
    {
      "cell_type": "markdown",
      "source": [
        "**TASK 7.1b: Repeat the same exercise in SPARQL, returning the variables ?c (class) and ?sc (superclass)**"
      ],
      "metadata": {
        "id": "kbY-jqw6klr9"
      }
    },
    {
      "cell_type": "code",
      "source": [
        "query = \"\"\"\n",
        "SELECT ?c ?sc\n",
        "WHERE {\n",
        "    ?c a rdfs:Class .\n",
        "    OPTIONAL { ?c rdfs:subClassOf ?sc . }\n",
        "    FILTER(STRSTARTS(STR(?c), \"http://oeg.fi.upm.es/def/people#\"))\n",
        "}\n",
        "\"\"\"\n",
        "\n",
        "for r in g.query(query):\n",
        "  print(r.c, r.sc)\n"
      ],
      "metadata": {
        "id": "NGAG7l9UklMC",
        "colab": {
          "base_uri": "https://localhost:8080/"
        },
        "outputId": "b03a2cde-2537-47eb-c091-852c0fa7b3ab"
      },
      "execution_count": 8,
      "outputs": [
        {
          "output_type": "stream",
          "name": "stdout",
          "text": [
            "http://oeg.fi.upm.es/def/people#Person None\n",
            "http://oeg.fi.upm.es/def/people#Animal None\n",
            "http://oeg.fi.upm.es/def/people#Professor http://oeg.fi.upm.es/def/people#Person\n",
            "http://oeg.fi.upm.es/def/people#Student http://oeg.fi.upm.es/def/people#Person\n",
            "http://oeg.fi.upm.es/def/people#FullProfessor http://oeg.fi.upm.es/def/people#Professor\n",
            "http://oeg.fi.upm.es/def/people#AssociateProfessor http://oeg.fi.upm.es/def/people#Professor\n",
            "http://oeg.fi.upm.es/def/people#InterimAssociateProfessor http://oeg.fi.upm.es/def/people#AssociateProfessor\n"
          ]
        }
      ]
    },
    {
      "cell_type": "code",
      "source": [
        "## Validation: Do not remove\n",
        "report.validate_07_1b(query,g)"
      ],
      "metadata": {
        "id": "9zf4vgVHlKR3",
        "colab": {
          "base_uri": "https://localhost:8080/"
        },
        "outputId": "332f2f48-4cce-4bea-b5d2-fba9c331231e"
      },
      "execution_count": 9,
      "outputs": [
        {
          "output_type": "stream",
          "name": "stdout",
          "text": [
            "TASK 7.1b OK\n"
          ]
        }
      ]
    },
    {
      "cell_type": "markdown",
      "metadata": {
        "id": "gM3DASkTQQ5Y"
      },
      "source": [
        "**TASK 7.2a: List all individuals of \"Person\" with RDFLib (remember the subClasses). Return the individual URIs in a list called \"individuals\"**\n"
      ]
    },
    {
      "cell_type": "code",
      "execution_count": 10,
      "metadata": {
        "id": "LiKSPHRzS-XJ",
        "colab": {
          "base_uri": "https://localhost:8080/"
        },
        "outputId": "11f5a5b6-150a-42e2-89a1-97194c1e49cb"
      },
      "outputs": [
        {
          "output_type": "stream",
          "name": "stdout",
          "text": [
            "http://oeg.fi.upm.es/def/people#Raul\n",
            "http://oeg.fi.upm.es/def/people#Asun\n",
            "http://oeg.fi.upm.es/def/people#Oscar\n"
          ]
        }
      ],
      "source": [
        "ns = Namespace(\"http://oeg.fi.upm.es/def/people#\")\n",
        "# variable to return\n",
        "individuals = []\n",
        "classes = set()\n",
        "classes.add(ns.Person)\n",
        "def get_subclasses(c):\n",
        "    for s in g.subjects(RDFS.subClassOf, c):\n",
        "        if s not in classes:\n",
        "            classes.add(s)\n",
        "            get_subclasses(s)\n",
        "\n",
        "get_subclasses(ns.Person)\n",
        "\n",
        "for c in classes:\n",
        "    for ind in g.subjects(RDF.type, c):\n",
        "        individuals.append(ind)\n",
        "\n",
        "# visualize results\n",
        "for i in individuals:\n",
        "  print(i)"
      ]
    },
    {
      "cell_type": "code",
      "source": [
        "# validation. Do not remove\n",
        "report.validate_07_02a(individuals)"
      ],
      "metadata": {
        "id": "ONrAls5uiX1G",
        "colab": {
          "base_uri": "https://localhost:8080/"
        },
        "outputId": "418a40ad-af25-42a3-f730-5ca8a8f1a7bd"
      },
      "execution_count": 11,
      "outputs": [
        {
          "output_type": "stream",
          "name": "stdout",
          "text": [
            "TASK 7.2a OK\n"
          ]
        }
      ]
    },
    {
      "cell_type": "markdown",
      "source": [
        "**TASK 7.2b: Repeat the same exercise in SPARQL, returning the individual URIs in a variable ?ind**"
      ],
      "metadata": {
        "id": "up-952A-za7A"
      }
    },
    {
      "cell_type": "code",
      "source": [
        "query = \"\"\"\n",
        "SELECT ?ind\n",
        "WHERE {\n",
        "    ?ind a ?c .\n",
        "    ?c rdfs:subClassOf* <http://oeg.fi.upm.es/def/people#Person> .\n",
        "}\n",
        "\"\"\"\n",
        "\n",
        "\n",
        "for r in g.query(query):\n",
        "  print(r.ind)\n",
        "# Visualize the results"
      ],
      "metadata": {
        "id": "ipYiEVbTzbR0",
        "colab": {
          "base_uri": "https://localhost:8080/"
        },
        "outputId": "fecb2176-3b81-481f-9eff-c42e4e9f1742"
      },
      "execution_count": 12,
      "outputs": [
        {
          "output_type": "stream",
          "name": "stdout",
          "text": [
            "http://oeg.fi.upm.es/def/people#Asun\n",
            "http://oeg.fi.upm.es/def/people#Oscar\n",
            "http://oeg.fi.upm.es/def/people#Raul\n"
          ]
        }
      ]
    },
    {
      "cell_type": "code",
      "source": [
        "## Validation: Do not remove\n",
        "report.validate_07_02b(g, query)"
      ],
      "metadata": {
        "id": "s-Hu2LxRjUQt",
        "colab": {
          "base_uri": "https://localhost:8080/"
        },
        "outputId": "7f3562dc-12ce-4b12-94ae-60c00ca745bb"
      },
      "execution_count": 13,
      "outputs": [
        {
          "output_type": "stream",
          "name": "stdout",
          "text": [
            "TASK 7.2b OK\n"
          ]
        }
      ]
    },
    {
      "cell_type": "markdown",
      "source": [
        "**TASK 7.3:  List the name and type of those who know Rocky (in SPARQL only). Use name and type as variables in the query**"
      ],
      "metadata": {
        "id": "3NyI7M2VNr9R"
      }
    },
    {
      "cell_type": "code",
      "source": [
        "query = \"\"\"\n",
        "SELECT ?name ?type\n",
        "WHERE {\n",
        "    ?person ns:knows ns:Rocky .\n",
        "    ?person a ?type .\n",
        "    OPTIONAL { ?person foaf:name ?name }\n",
        "    FILTER(STRSTARTS(STR(?type), \"http://oeg.fi.upm.es/def/people#\"))\n",
        "}\n",
        "\"\"\"\n",
        "\n",
        "# TO DO\n",
        "# Visualize the results\n",
        "for r in g.query(query):\n",
        "  print(r.name, r.type)\n"
      ],
      "metadata": {
        "id": "I_CNoIKdNpbx"
      },
      "execution_count": 19,
      "outputs": []
    },
    {
      "cell_type": "code",
      "source": [
        "## Validation: Do not remove\n",
        "report.validate_07_03(g, query)"
      ],
      "metadata": {
        "id": "Zf3JS7tEhS2t",
        "colab": {
          "base_uri": "https://localhost:8080/"
        },
        "outputId": "ae42e791-1683-4cdc-a348-bd8dcdc006e4"
      },
      "execution_count": 20,
      "outputs": [
        {
          "output_type": "stream",
          "name": "stdout",
          "text": [
            "ERROR: The number of individuals returned is not correct\n"
          ]
        }
      ]
    },
    {
      "cell_type": "markdown",
      "source": [
        "**Task 7.4: List the name of those entities who have a colleague with a dog, or that have a collegue who has a colleague who has a dog (in SPARQL). Return the results in a variable called name**"
      ],
      "metadata": {
        "id": "kyjGsyxDPa2C"
      }
    },
    {
      "cell_type": "code",
      "source": [
        "query = \"\"\"\n",
        "\n",
        "SELECT DISTINCT ?name\n",
        "WHERE {\n",
        "    ?person ns:colleague ?col1 .\n",
        "\n",
        "    {\n",
        "        ?col1 ns:hasPet ?pet1 .\n",
        "        ?pet1 a ns:Dog .\n",
        "    }\n",
        "\n",
        "    UNION\n",
        "    {\n",
        "        ?col1 ns:colleague ?col2 .\n",
        "        ?col2 ns:hasPet ?pet2 .\n",
        "        ?pet2 a ns:Dog .\n",
        "    }\n",
        "\n",
        "    ?person ns:name ?name .\n",
        "}\n",
        "\"\"\"\n",
        "for r in g.query(query):\n",
        "  print(r.name)\n",
        "\n",
        "# TO DO\n",
        "# Visualize the results"
      ],
      "metadata": {
        "id": "yoVwVZUAPaLm"
      },
      "execution_count": 23,
      "outputs": []
    },
    {
      "cell_type": "code",
      "source": [
        "## Validation: Do not remove\n",
        "report.validate_07_04(g,query)\n",
        "report.save_report(\"_Task_07\")"
      ],
      "metadata": {
        "id": "zcTZE7ngj2fc",
        "colab": {
          "base_uri": "https://localhost:8080/"
        },
        "outputId": "97c667e8-bd63-479d-c497-930307e66626"
      },
      "execution_count": 24,
      "outputs": [
        {
          "output_type": "stream",
          "name": "stdout",
          "text": [
            "ERROR: The number of individuals returned is not correct\n"
          ]
        }
      ]
    }
  ],
  "metadata": {
    "colab": {
      "provenance": [],
      "include_colab_link": true
    },
    "kernelspec": {
      "display_name": "Python 3 (ipykernel)",
      "language": "python",
      "name": "python3"
    },
    "language_info": {
      "codemirror_mode": {
        "name": "ipython",
        "version": 3
      },
      "file_extension": ".py",
      "mimetype": "text/x-python",
      "name": "python",
      "nbconvert_exporter": "python",
      "pygments_lexer": "ipython3",
      "version": "3.9.5"
    }
  },
  "nbformat": 4,
  "nbformat_minor": 0
}