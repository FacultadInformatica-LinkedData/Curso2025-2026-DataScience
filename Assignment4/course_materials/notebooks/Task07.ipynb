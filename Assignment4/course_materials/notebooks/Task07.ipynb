{
  "cells": [
    {
      "cell_type": "markdown",
      "metadata": {
        "id": "nOOPLCHF7hLB"
      },
      "source": [
        "**Task 07: Querying RDF(s)**"
      ]
    },
    {
      "cell_type": "code",
      "execution_count": 2,
      "metadata": {
        "id": "Yl9npCt8n6m-",
        "outputId": "88b52526-9f03-4a07-8eee-fead4363c48c",
        "colab": {
          "base_uri": "https://localhost:8080/"
        }
      },
      "outputs": [
        {
          "output_type": "stream",
          "name": "stdout",
          "text": [
            "Collecting rdflib\n",
            "  Downloading rdflib-7.2.1-py3-none-any.whl.metadata (11 kB)\n",
            "Requirement already satisfied: pyparsing<4,>=2.1.0 in /usr/local/lib/python3.12/dist-packages (from rdflib) (3.2.5)\n",
            "Downloading rdflib-7.2.1-py3-none-any.whl (565 kB)\n",
            "\u001b[2K   \u001b[90m━━━━━━━━━━━━━━━━━━━━━━━━━━━━━━━━━━━━━━━━\u001b[0m \u001b[32m565.4/565.4 kB\u001b[0m \u001b[31m10.1 MB/s\u001b[0m eta \u001b[36m0:00:00\u001b[0m\n",
            "\u001b[?25hInstalling collected packages: rdflib\n",
            "Successfully installed rdflib-7.2.1\n"
          ]
        }
      ],
      "source": [
        "!pip install rdflib\n",
        "import urllib.request\n",
        "url = 'https://raw.githubusercontent.com/FacultadInformatica-LinkedData/Curso2025-2026/refs/heads/master/Assignment4/course_materials/python/validation.py'\n",
        "urllib.request.urlretrieve(url, 'validation.py')\n",
        "github_storage = \"https://raw.githubusercontent.com/FacultadInformatica-LinkedData/Curso2025-2026/master/Assignment4/course_materials\""
      ]
    },
    {
      "cell_type": "code",
      "source": [
        "from validation import Report"
      ],
      "metadata": {
        "id": "FmnGjffDT92V"
      },
      "execution_count": 3,
      "outputs": []
    },
    {
      "cell_type": "markdown",
      "metadata": {
        "id": "XY7aPc86Bqoo"
      },
      "source": [
        "First let's read the RDF file"
      ]
    },
    {
      "cell_type": "code",
      "execution_count": 4,
      "metadata": {
        "id": "9ERh415on7kF"
      },
      "outputs": [],
      "source": [
        "from rdflib import Graph, Namespace, Literal\n",
        "from rdflib.namespace import RDF, RDFS\n",
        "# Do not change the name of the variables\n",
        "g = Graph()\n",
        "g.namespace_manager.bind('ns', Namespace(\"http://somewhere#\"), override=False)\n",
        "g.parse(github_storage+\"/rdf/data06.ttl\", format=\"TTL\")\n",
        "report = Report()"
      ]
    },
    {
      "cell_type": "markdown",
      "metadata": {
        "id": "qp1oe2Eddsvo"
      },
      "source": [
        "**TASK 7.1a: For all classes, list each classURI. If the class belogs to another class, then list its superclass.**\n",
        "**Do the exercise in RDFLib returning a list of Tuples: (class, superclass) called \"result\". If a class does not have a super class, then return None as the superclass**"
      ]
    },
    {
      "cell_type": "code",
      "execution_count": 5,
      "metadata": {
        "id": "tRcSWuMHOXBl",
        "outputId": "ae70a851-f786-4019-b293-4c33a7e48472",
        "colab": {
          "base_uri": "https://localhost:8080/"
        }
      },
      "outputs": [
        {
          "output_type": "stream",
          "name": "stdout",
          "text": [
            "(rdflib.term.URIRef('http://oeg.fi.upm.es/def/people#Animal'), None)\n",
            "(rdflib.term.URIRef('http://oeg.fi.upm.es/def/people#FullProfessor'), rdflib.term.URIRef('http://oeg.fi.upm.es/def/people#Professor'))\n",
            "(rdflib.term.URIRef('http://oeg.fi.upm.es/def/people#Student'), rdflib.term.URIRef('http://oeg.fi.upm.es/def/people#Person'))\n",
            "(rdflib.term.URIRef('http://oeg.fi.upm.es/def/people#Professor'), rdflib.term.URIRef('http://oeg.fi.upm.es/def/people#Person'))\n",
            "(rdflib.term.URIRef('http://oeg.fi.upm.es/def/people#AssociateProfessor'), rdflib.term.URIRef('http://oeg.fi.upm.es/def/people#Professor'))\n",
            "(rdflib.term.URIRef('http://oeg.fi.upm.es/def/people#InterimAssociateProfessor'), rdflib.term.URIRef('http://oeg.fi.upm.es/def/people#AssociateProfessor'))\n",
            "(rdflib.term.URIRef('http://oeg.fi.upm.es/def/people#Person'), None)\n"
          ]
        }
      ],
      "source": [
        "# TO DO\n",
        "\n",
        "def listar_clases_y_superclase(grafo):\n",
        "    clases = set(grafo.subjects(RDF.type, RDFS.Class))\n",
        "    clases.update(grafo.subjects(RDFS.subClassOf, None))   # subclases\n",
        "    clases.update(grafo.objects(None, RDFS.subClassOf))    # superclases\n",
        "\n",
        "    resultado = []\n",
        "    for c in clases:\n",
        "        sc = grafo.value(subject=c, predicate=RDFS.subClassOf, object=None)\n",
        "        resultado.append((c, sc))\n",
        "    return resultado\n",
        "\n",
        "# Visualize the results\n",
        "result = listar_clases_y_superclase(g) #list of tuples\n",
        "for r in result:\n",
        "  print(r)"
      ]
    },
    {
      "cell_type": "code",
      "source": [
        "## Validation: Do not remove\n",
        "report.validate_07_1a(result)"
      ],
      "metadata": {
        "id": "uvEpQQrTlMPH",
        "outputId": "ca7b53e2-8c8f-4edf-f26d-9800dc0ce8eb",
        "colab": {
          "base_uri": "https://localhost:8080/"
        }
      },
      "execution_count": 6,
      "outputs": [
        {
          "output_type": "stream",
          "name": "stdout",
          "text": [
            "TASK 7.1a OK\n"
          ]
        }
      ]
    },
    {
      "cell_type": "markdown",
      "source": [
        "**TASK 7.1b: Repeat the same exercise in SPARQL, returning the variables ?c (class) and ?sc (superclass)**"
      ],
      "metadata": {
        "id": "kbY-jqw6klr9"
      }
    },
    {
      "cell_type": "code",
      "source": [
        "query = \"\"\"\n",
        "PREFIX rdfs: <http://www.w3.org/2000/01/rdf-schema#>\n",
        "\n",
        "SELECT DISTINCT ?c ?sc\n",
        "WHERE {\n",
        "  {\n",
        "    { ?c a rdfs:Class }\n",
        "    UNION\n",
        "    { ?c rdfs:subClassOf ?_any }\n",
        "    UNION\n",
        "    { ?_x rdfs:subClassOf ?c }\n",
        "  }\n",
        "  OPTIONAL { ?c rdfs:subClassOf ?sc }  # su superclase si existe\n",
        "}\n",
        "\"\"\"\n",
        "\n",
        "for r in g.query(query):\n",
        "  print(r.c, r.sc)\n"
      ],
      "metadata": {
        "id": "NGAG7l9UklMC",
        "outputId": "3effc97d-a729-40f2-d601-0dd13fe98a59",
        "colab": {
          "base_uri": "https://localhost:8080/"
        }
      },
      "execution_count": 9,
      "outputs": [
        {
          "output_type": "stream",
          "name": "stdout",
          "text": [
            "http://oeg.fi.upm.es/def/people#Person None\n",
            "http://oeg.fi.upm.es/def/people#Animal None\n",
            "http://oeg.fi.upm.es/def/people#Professor http://oeg.fi.upm.es/def/people#Person\n",
            "http://oeg.fi.upm.es/def/people#Student http://oeg.fi.upm.es/def/people#Person\n",
            "http://oeg.fi.upm.es/def/people#FullProfessor http://oeg.fi.upm.es/def/people#Professor\n",
            "http://oeg.fi.upm.es/def/people#AssociateProfessor http://oeg.fi.upm.es/def/people#Professor\n",
            "http://oeg.fi.upm.es/def/people#InterimAssociateProfessor http://oeg.fi.upm.es/def/people#AssociateProfessor\n"
          ]
        }
      ]
    },
    {
      "cell_type": "code",
      "source": [
        "## Validation: Do not remove\n",
        "report.validate_07_1b(query,g)"
      ],
      "metadata": {
        "id": "9zf4vgVHlKR3",
        "outputId": "79f03d36-a61d-4840-aa74-1367d1479ff0",
        "colab": {
          "base_uri": "https://localhost:8080/"
        }
      },
      "execution_count": 10,
      "outputs": [
        {
          "output_type": "stream",
          "name": "stdout",
          "text": [
            "TASK 7.1b OK\n"
          ]
        }
      ]
    },
    {
      "cell_type": "markdown",
      "metadata": {
        "id": "gM3DASkTQQ5Y"
      },
      "source": [
        "**TASK 7.2a: List all individuals of \"Person\" with RDFLib (remember the subClasses). Return the individual URIs in a list called \"individuals\"**\n"
      ]
    },
    {
      "cell_type": "code",
      "execution_count": 11,
      "metadata": {
        "id": "LiKSPHRzS-XJ",
        "outputId": "29b5467d-08e3-4944-9cd0-93fbba75e6c2",
        "colab": {
          "base_uri": "https://localhost:8080/"
        }
      },
      "outputs": [
        {
          "output_type": "stream",
          "name": "stdout",
          "text": [
            "http://oeg.fi.upm.es/def/people#Oscar\n",
            "http://oeg.fi.upm.es/def/people#Asun\n",
            "http://oeg.fi.upm.es/def/people#Raul\n"
          ]
        }
      ],
      "source": [
        "ns = Namespace(\"http://oeg.fi.upm.es/def/people#\")\n",
        "\n",
        "person_class = ns.Person\n",
        "\n",
        "def get_all_subclasses(cls):\n",
        "    subclasses = set(g.subjects(RDFS.subClassOf, cls))\n",
        "    for sc in list(subclasses):\n",
        "        subclasses |= get_all_subclasses(sc)\n",
        "    return subclasses\n",
        "\n",
        "all_classes = {person_class} | get_all_subclasses(person_class)\n",
        "\n",
        "# variable to return\n",
        "individuals = []\n",
        "for c in all_classes:\n",
        "    for ind in g.subjects(RDF.type, c):\n",
        "        individuals.append(ind)\n",
        "# visualize results\n",
        "for i in individuals:\n",
        "  print(i)"
      ]
    },
    {
      "cell_type": "code",
      "source": [
        "# validation. Do not remove\n",
        "report.validate_07_02a(individuals)"
      ],
      "metadata": {
        "id": "ONrAls5uiX1G",
        "outputId": "a0181b3c-83db-4f1d-eff3-8c68b9c3033f",
        "colab": {
          "base_uri": "https://localhost:8080/"
        }
      },
      "execution_count": 12,
      "outputs": [
        {
          "output_type": "stream",
          "name": "stdout",
          "text": [
            "TASK 7.2a OK\n"
          ]
        }
      ]
    },
    {
      "cell_type": "markdown",
      "source": [
        "**TASK 7.2b: Repeat the same exercise in SPARQL, returning the individual URIs in a variable ?ind**"
      ],
      "metadata": {
        "id": "up-952A-za7A"
      }
    },
    {
      "cell_type": "code",
      "source": [
        "query = \"\"\"\n",
        "PREFIX rdf:  <http://www.w3.org/1999/02/22-rdf-syntax-ns#>\n",
        "PREFIX rdfs: <http://www.w3.org/2000/01/rdf-schema#>\n",
        "PREFIX ns:   <http://oeg.fi.upm.es/def/people#>\n",
        "\n",
        "SELECT DISTINCT ?ind\n",
        "WHERE {\n",
        "  ?c rdfs:subClassOf* ns:Person .\n",
        "  ?ind rdf:type ?c .\n",
        "}\n",
        "\"\"\"\n",
        "\n",
        "for r in g.query(query):\n",
        "  print(r.ind)\n",
        "# Visualize the results"
      ],
      "metadata": {
        "id": "ipYiEVbTzbR0",
        "outputId": "4620945f-9523-4a6e-f04f-a711ba7f6bf5",
        "colab": {
          "base_uri": "https://localhost:8080/"
        }
      },
      "execution_count": 13,
      "outputs": [
        {
          "output_type": "stream",
          "name": "stdout",
          "text": [
            "http://oeg.fi.upm.es/def/people#Asun\n",
            "http://oeg.fi.upm.es/def/people#Oscar\n",
            "http://oeg.fi.upm.es/def/people#Raul\n"
          ]
        }
      ]
    },
    {
      "cell_type": "code",
      "source": [
        "## Validation: Do not remove\n",
        "report.validate_07_02b(g, query)"
      ],
      "metadata": {
        "id": "s-Hu2LxRjUQt",
        "outputId": "c9a0e8c9-7474-4933-a9b1-f754d93b0cdc",
        "colab": {
          "base_uri": "https://localhost:8080/"
        }
      },
      "execution_count": 14,
      "outputs": [
        {
          "output_type": "stream",
          "name": "stdout",
          "text": [
            "TASK 7.2b OK\n"
          ]
        }
      ]
    },
    {
      "cell_type": "markdown",
      "source": [
        "**TASK 7.3:  List the name and type of those who know Rocky (in SPARQL only). Use name and type as variables in the query**"
      ],
      "metadata": {
        "id": "3NyI7M2VNr9R"
      }
    },
    {
      "cell_type": "code",
      "source": [
        "query = \"\"\"\n",
        "PREFIX rdf:  <http://www.w3.org/1999/02/22-rdf-syntax-ns#>\n",
        "PREFIX rdfs: <http://www.w3.org/2000/01/rdf-schema#>\n",
        "PREFIX ns:   <http://oeg.fi.upm.es/def/people#>\n",
        "\n",
        "SELECT DISTINCT ?name ?type\n",
        "WHERE {\n",
        "  ?ind ?p ns:Rocky .\n",
        "  ?ind rdfs:label ?name .\n",
        "  ?ind rdf:type ?type .\n",
        "}\n",
        "\"\"\"\n",
        "# Visualize the results\n",
        "for r in g.query(query):\n",
        "  print(r.name, r.type)\n"
      ],
      "metadata": {
        "id": "I_CNoIKdNpbx",
        "outputId": "a13ec1df-336c-4611-cbf1-0f308063c19f",
        "colab": {
          "base_uri": "https://localhost:8080/"
        }
      },
      "execution_count": 18,
      "outputs": [
        {
          "output_type": "stream",
          "name": "stdout",
          "text": [
            "Asun http://oeg.fi.upm.es/def/people#FullProfessor\n",
            "Raul http://oeg.fi.upm.es/def/people#InterimAssociateProfessor\n",
            "Fantasma http://oeg.fi.upm.es/def/people#Animal\n"
          ]
        }
      ]
    },
    {
      "cell_type": "code",
      "source": [
        "## Validation: Do not remove\n",
        "report.validate_07_03(g, query)"
      ],
      "metadata": {
        "id": "Zf3JS7tEhS2t",
        "outputId": "c594c4b8-71c1-4710-ea31-8b3fbc4d85b6",
        "colab": {
          "base_uri": "https://localhost:8080/"
        }
      },
      "execution_count": 19,
      "outputs": [
        {
          "output_type": "stream",
          "name": "stdout",
          "text": [
            "TASK 7.3 OK\n"
          ]
        }
      ]
    },
    {
      "cell_type": "markdown",
      "source": [
        "**Task 7.4: List the name of those entities who have a colleague with a dog, or that have a collegue who has a colleague who has a dog (in SPARQL). Return the results in a variable called name**"
      ],
      "metadata": {
        "id": "kyjGsyxDPa2C"
      }
    },
    {
      "cell_type": "code",
      "source": [
        "query = \"\"\"\n",
        "PREFIX rdf:  <http://www.w3.org/1999/02/22-rdf-syntax-ns#>\n",
        "PREFIX rdfs: <http://www.w3.org/2000/01/rdf-schema#>\n",
        "PREFIX ns:   <http://oeg.fi.upm.es/def/people#>\n",
        "\n",
        "SELECT DISTINCT ?name\n",
        "WHERE {\n",
        "  ?ind rdfs:label ?name .\n",
        "\n",
        "  {\n",
        "    ?ind ns:hasColleague ?c .\n",
        "  }\n",
        "  UNION\n",
        "  {\n",
        "    ?ind ns:hasColleague/ns:hasColleague ?c .\n",
        "  }\n",
        "\n",
        "  ?c ?any ns:Rocky .\n",
        "}\n",
        "\"\"\"\n",
        "\n",
        "for r in g.query(query):\n",
        "  print(r.name)\n",
        "\n",
        "# TO DO\n",
        "# Visualize the results"
      ],
      "metadata": {
        "id": "yoVwVZUAPaLm",
        "outputId": "b2c6753a-8fb3-4a72-ac50-a47822a1f48a",
        "colab": {
          "base_uri": "https://localhost:8080/"
        }
      },
      "execution_count": 32,
      "outputs": [
        {
          "output_type": "stream",
          "name": "stdout",
          "text": [
            "Asun\n",
            "Oscar\n",
            "Raul\n"
          ]
        }
      ]
    },
    {
      "cell_type": "code",
      "source": [
        "## Validation: Do not remove\n",
        "report.validate_07_04(g,query)\n",
        "report.save_report(\"_Task_07\")"
      ],
      "metadata": {
        "id": "zcTZE7ngj2fc",
        "outputId": "a8c66733-1648-4d15-dd0a-4385835b1009",
        "colab": {
          "base_uri": "https://localhost:8080/"
        }
      },
      "execution_count": 33,
      "outputs": [
        {
          "output_type": "stream",
          "name": "stdout",
          "text": [
            "TASK 7.4 OK\n"
          ]
        }
      ]
    }
  ],
  "metadata": {
    "colab": {
      "provenance": []
    },
    "kernelspec": {
      "display_name": "Python 3 (ipykernel)",
      "language": "python",
      "name": "python3"
    },
    "language_info": {
      "codemirror_mode": {
        "name": "ipython",
        "version": 3
      },
      "file_extension": ".py",
      "mimetype": "text/x-python",
      "name": "python",
      "nbconvert_exporter": "python",
      "pygments_lexer": "ipython3",
      "version": "3.9.5"
    }
  },
  "nbformat": 4,
  "nbformat_minor": 0
}