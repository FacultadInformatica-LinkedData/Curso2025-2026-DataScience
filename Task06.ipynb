{
  "cells": [
    {
      "cell_type": "markdown",
      "metadata": {
        "id": "view-in-github",
        "colab_type": "text"
      },
      "source": [
        "<a href=\"https://colab.research.google.com/github/dusihan-hub/Curso2025-2026-DataScience/blob/Assignment4/Task06.ipynb\" target=\"_parent\"><img src=\"https://colab.research.google.com/assets/colab-badge.svg\" alt=\"Open In Colab\"/></a>"
      ]
    },
    {
      "cell_type": "markdown",
      "metadata": {
        "id": "nOOPLCHF7hLB"
      },
      "source": [
        "**Task 06: Modifying RDF(s)**"
      ]
    },
    {
      "cell_type": "code",
      "metadata": {
        "id": "Yl9npCt8n6m-",
        "ExecuteTime": {
          "end_time": "2025-10-22T10:10:12.435789Z",
          "start_time": "2025-10-22T10:10:11.838693Z"
        },
        "colab": {
          "base_uri": "https://localhost:8080/"
        },
        "outputId": "417512a3-3870-42c4-c3c5-1a016429afd0"
      },
      "source": [
        "!pip install rdflib\n",
        "import urllib.request\n",
        "url = 'https://raw.githubusercontent.com/FacultadInformatica-LinkedData/Curso2025-2026/refs/heads/master/Assignment4/course_materials/python/validation.py'\n",
        "urllib.request.urlretrieve(url, 'validation.py')\n",
        "github_storage = \"https://raw.githubusercontent.com/FacultadInformatica-LinkedData/Curso2025-2026/master/Assignment4/course_materials\""
      ],
      "outputs": [
        {
          "output_type": "stream",
          "name": "stdout",
          "text": [
            "Requirement already satisfied: rdflib in /usr/local/lib/python3.12/dist-packages (7.2.1)\n",
            "Requirement already satisfied: pyparsing<4,>=2.1.0 in /usr/local/lib/python3.12/dist-packages (from rdflib) (3.2.5)\n"
          ]
        }
      ],
      "execution_count": 146
    },
    {
      "cell_type": "markdown",
      "metadata": {
        "id": "XY7aPc86Bqoo"
      },
      "source": [
        "Import RDFLib main methods"
      ]
    },
    {
      "cell_type": "code",
      "execution_count": 147,
      "metadata": {
        "id": "9ERh415on7kF"
      },
      "outputs": [],
      "source": [
        "from rdflib import Graph, Namespace, Literal, XSD\n",
        "from rdflib.namespace import RDF, RDFS\n",
        "from validation import Report\n",
        "g = Graph()\n",
        "g.namespace_manager.bind('ns', Namespace(\"http://somewhere#\"), override=False)\n",
        "r = Report()"
      ]
    },
    {
      "cell_type": "markdown",
      "metadata": {
        "id": "gM3DASkTQQ5Y"
      },
      "source": [
        "Create a new class named Researcher"
      ]
    },
    {
      "cell_type": "code",
      "execution_count": 148,
      "metadata": {
        "id": "6vtudax8Xb7b",
        "colab": {
          "base_uri": "https://localhost:8080/"
        },
        "outputId": "4c2dc53a-8b2e-4fc5-f91c-d56b73a48f4d"
      },
      "outputs": [
        {
          "output_type": "stream",
          "name": "stdout",
          "text": [
            "http://mydomain.org#Researcher http://www.w3.org/1999/02/22-rdf-syntax-ns#type http://www.w3.org/2000/01/rdf-schema#Class\n"
          ]
        }
      ],
      "source": [
        "ns = Namespace(\"http://mydomain.org#\")\n",
        "g.add((ns.Researcher, RDF.type, RDFS.Class))\n",
        "for s, p, o in g:\n",
        "  print(s,p,o)"
      ]
    },
    {
      "cell_type": "markdown",
      "source": [
        "**Task 6.0: Create new prefixes for \"ontology\" and \"person\" as shown in slide 14 of the Slidedeck 01a.RDF(s)-SPARQL shown in class.**"
      ],
      "metadata": {
        "id": "ZX8w9jnV5Xhp"
      }
    },
    {
      "cell_type": "code",
      "source": [
        "# this task is validated in the next step\n",
        "ontology = Namespace(\"http://www.oeg-upm.net/ontology#\")\n",
        "person = Namespace(\"http://www.oeg-upm.net/ontology/person#\")\n"
      ],
      "metadata": {
        "id": "b1ZQgYgB5vi7"
      },
      "execution_count": 149,
      "outputs": []
    },
    {
      "cell_type": "markdown",
      "metadata": {
        "id": "qp1oe2Eddsvo"
      },
      "source": [
        "**TASK 6.1: Reproduce the taxonomy of classes shown in slide 34 in class (all the classes under \"Vocabulario\", Slidedeck: 01a.RDF(s)-SPARQL). Add labels for each of them as they are in the diagram (exactly) with no language tags. Remember adding the correct datatype (xsd:String) when appropriate**\n"
      ]
    },
    {
      "cell_type": "code",
      "source": [
        "\n",
        "g.add((ontology.Person, RDF.type, RDFS.Class))\n",
        "g.add((ontology.Professor, RDF.type, RDFS.Class))\n",
        "g.add((ontology.FullProfessor, RDF.type, RDFS.Class))\n",
        "g.add((ontology.AssociateProfessor, RDF.type, RDFS.Class))\n",
        "g.add((ontology.InterimAssociateProfessor, RDF.type, RDFS.Class))\n",
        "\n",
        "g.add((ontology.Professor, RDFS.subClassOf, ontology.Person))\n",
        "g.add((ontology.FullProfessor, RDFS.subClassOf, ontology.Professor))\n",
        "g.add((ontology.AssociateProfessor, RDFS.subClassOf, ontology.Professor))\n",
        "g.add((ontology.InterimAssociateProfessor, RDFS.subClassOf, ontology.AssociateProfessor))\n",
        "\n",
        "labels = {\n",
        "    ontology.Person: \"Person\",\n",
        "    ontology.Professor: \"Professor\",\n",
        "    ontology.FullProfessor: \"FullProfessor\",\n",
        "    ontology.AssociateProfessor: \"AssociateProfessor\",\n",
        "    ontology.InterimAssociateProfessor: \"InterimAssociateProfessor\"\n",
        "}\n",
        "\n",
        "for cls, label in labels.items():\n",
        "    g.add((cls, RDFS.label, Literal(label, datatype=XSD.string)))\n",
        "\n",
        "for s, p, o in g:\n",
        "    print(s, p, o)\n"
      ],
      "metadata": {
        "colab": {
          "base_uri": "https://localhost:8080/"
        },
        "id": "360nJH4omy0w",
        "outputId": "c2710378-5221-46e3-b8bb-31f41a139c4b"
      },
      "execution_count": 150,
      "outputs": [
        {
          "output_type": "stream",
          "name": "stdout",
          "text": [
            "http://www.oeg-upm.net/ontology#AssociateProfessor http://www.w3.org/2000/01/rdf-schema#subClassOf http://www.oeg-upm.net/ontology#Professor\n",
            "http://www.oeg-upm.net/ontology#Person http://www.w3.org/2000/01/rdf-schema#label Person\n",
            "http://www.oeg-upm.net/ontology#Professor http://www.w3.org/1999/02/22-rdf-syntax-ns#type http://www.w3.org/2000/01/rdf-schema#Class\n",
            "http://www.oeg-upm.net/ontology#FullProfessor http://www.w3.org/2000/01/rdf-schema#label FullProfessor\n",
            "http://www.oeg-upm.net/ontology#InterimAssociateProfessor http://www.w3.org/2000/01/rdf-schema#label InterimAssociateProfessor\n",
            "http://www.oeg-upm.net/ontology#AssociateProfessor http://www.w3.org/1999/02/22-rdf-syntax-ns#type http://www.w3.org/2000/01/rdf-schema#Class\n",
            "http://www.oeg-upm.net/ontology#InterimAssociateProfessor http://www.w3.org/2000/01/rdf-schema#subClassOf http://www.oeg-upm.net/ontology#AssociateProfessor\n",
            "http://www.oeg-upm.net/ontology#FullProfessor http://www.w3.org/2000/01/rdf-schema#subClassOf http://www.oeg-upm.net/ontology#Professor\n",
            "http://www.oeg-upm.net/ontology#AssociateProfessor http://www.w3.org/2000/01/rdf-schema#label AssociateProfessor\n",
            "http://www.oeg-upm.net/ontology#FullProfessor http://www.w3.org/1999/02/22-rdf-syntax-ns#type http://www.w3.org/2000/01/rdf-schema#Class\n",
            "http://www.oeg-upm.net/ontology#Professor http://www.w3.org/2000/01/rdf-schema#label Professor\n",
            "http://www.oeg-upm.net/ontology#InterimAssociateProfessor http://www.w3.org/1999/02/22-rdf-syntax-ns#type http://www.w3.org/2000/01/rdf-schema#Class\n",
            "http://mydomain.org#Researcher http://www.w3.org/1999/02/22-rdf-syntax-ns#type http://www.w3.org/2000/01/rdf-schema#Class\n",
            "http://www.oeg-upm.net/ontology#Person http://www.w3.org/1999/02/22-rdf-syntax-ns#type http://www.w3.org/2000/01/rdf-schema#Class\n",
            "http://www.oeg-upm.net/ontology#Professor http://www.w3.org/2000/01/rdf-schema#subClassOf http://www.oeg-upm.net/ontology#Person\n"
          ]
        }
      ]
    },
    {
      "cell_type": "code",
      "source": [
        "# Validation. Do not remove\n",
        "r.validate_task_06_01(g)"
      ],
      "metadata": {
        "id": "HdRPyusrjIuB",
        "colab": {
          "base_uri": "https://localhost:8080/"
        },
        "outputId": "75165c2e-91fd-45c0-8cb4-ce964e996f56"
      },
      "execution_count": 151,
      "outputs": [
        {
          "output_type": "stream",
          "name": "stdout",
          "text": [
            "ERROR: The namespace is not correct for http://www.oeg-upm.net/ontology#Professor\n",
            "ERROR: The namespace is not correct for http://www.oeg-upm.net/ontology#Person\n",
            "ERROR: The namespace is not correct for http://www.oeg-upm.net/ontology#AssociateProfessor\n",
            "ERROR: The namespace is not correct for http://www.oeg-upm.net/ontology#InterimAssociateProfessor\n",
            "ERROR: The namespace is not correct for http://www.oeg-upm.net/ontology#FullProfessor\n",
            "Hierarchy OK\n",
            "ERROR IN TASK 6.1\n"
          ]
        }
      ]
    },
    {
      "cell_type": "markdown",
      "metadata": {
        "id": "MXBqtBkJd22I"
      },
      "source": [
        "**TASK 6.2: Add the 3 properties shown in slide 36. Add labels for each of them (exactly as they are in the slide, with no language tags), and their corresponding domains and ranges using RDFS. Remember adding the correct datatype (xsd:String) when appropriate. If a property has no range, make it a literal (string)**"
      ]
    },
    {
      "cell_type": "code",
      "execution_count": 152,
      "metadata": {
        "id": "53hZNtXsXCNq",
        "colab": {
          "base_uri": "https://localhost:8080/"
        },
        "outputId": "e8b6bafe-8458-4f12-9d6d-7fad153e8a95"
      },
      "outputs": [
        {
          "output_type": "stream",
          "name": "stdout",
          "text": [
            "http://www.oeg-upm.net/ontology#AssociateProfessor http://www.w3.org/2000/01/rdf-schema#subClassOf http://www.oeg-upm.net/ontology#Professor\n",
            "http://www.oeg-upm.net/ontology#hasColleague http://www.w3.org/2000/01/rdf-schema#domain http://www.oeg-upm.net/ontology#Person\n",
            "http://www.oeg-upm.net/ontology#hasName http://www.w3.org/2000/01/rdf-schema#domain http://www.oeg-upm.net/ontology#Person\n",
            "http://www.oeg-upm.net/ontology#Person http://www.w3.org/2000/01/rdf-schema#label Person\n",
            "http://www.oeg-upm.net/ontology#FullProfessor http://www.w3.org/2000/01/rdf-schema#label FullProfessor\n",
            "http://www.oeg-upm.net/ontology#InterimAssociateProfessor http://www.w3.org/1999/02/22-rdf-syntax-ns#type http://www.w3.org/2000/01/rdf-schema#Class\n",
            "http://mydomain.org#Researcher http://www.w3.org/1999/02/22-rdf-syntax-ns#type http://www.w3.org/2000/01/rdf-schema#Class\n",
            "http://www.oeg-upm.net/ontology#Person http://www.w3.org/1999/02/22-rdf-syntax-ns#type http://www.w3.org/2000/01/rdf-schema#Class\n",
            "http://www.oeg-upm.net/ontology#Professor http://www.w3.org/2000/01/rdf-schema#subClassOf http://www.oeg-upm.net/ontology#Person\n",
            "http://www.oeg-upm.net/ontology#hasColleague http://www.w3.org/2000/01/rdf-schema#label hasColleague\n",
            "http://www.oeg-upm.net/ontology#hasHomePage http://www.w3.org/2000/01/rdf-schema#label hasHomePage\n",
            "http://www.oeg-upm.net/ontology#hasName http://www.w3.org/2000/01/rdf-schema#range http://www.w3.org/2001/XMLSchema#string\n",
            "http://www.oeg-upm.net/ontology#InterimAssociateProfessor http://www.w3.org/2000/01/rdf-schema#label InterimAssociateProfessor\n",
            "http://www.oeg-upm.net/ontology#Professor http://www.w3.org/1999/02/22-rdf-syntax-ns#type http://www.w3.org/2000/01/rdf-schema#Class\n",
            "http://www.oeg-upm.net/ontology#AssociateProfessor http://www.w3.org/1999/02/22-rdf-syntax-ns#type http://www.w3.org/2000/01/rdf-schema#Class\n",
            "http://www.oeg-upm.net/ontology#InterimAssociateProfessor http://www.w3.org/2000/01/rdf-schema#subClassOf http://www.oeg-upm.net/ontology#AssociateProfessor\n",
            "http://www.oeg-upm.net/ontology#hasName http://www.w3.org/2000/01/rdf-schema#label hasName\n",
            "http://www.oeg-upm.net/ontology#AssociateProfessor http://www.w3.org/2000/01/rdf-schema#label AssociateProfessor\n",
            "http://www.oeg-upm.net/ontology#hasHomePage http://www.w3.org/2000/01/rdf-schema#range http://www.w3.org/2001/XMLSchema#string\n",
            "http://www.oeg-upm.net/ontology#FullProfessor http://www.w3.org/1999/02/22-rdf-syntax-ns#type http://www.w3.org/2000/01/rdf-schema#Class\n",
            "http://www.oeg-upm.net/ontology#Professor http://www.w3.org/2000/01/rdf-schema#label Professor\n",
            "http://www.oeg-upm.net/ontology#hasHomePage http://www.w3.org/1999/02/22-rdf-syntax-ns#type http://www.w3.org/1999/02/22-rdf-syntax-ns#Property\n",
            "http://www.oeg-upm.net/ontology#FullProfessor http://www.w3.org/2000/01/rdf-schema#subClassOf http://www.oeg-upm.net/ontology#Professor\n",
            "http://www.oeg-upm.net/ontology#hasHomePage http://www.w3.org/2000/01/rdf-schema#domain http://www.oeg-upm.net/ontology#Person\n",
            "http://www.oeg-upm.net/ontology#hasColleague http://www.w3.org/1999/02/22-rdf-syntax-ns#type http://www.w3.org/1999/02/22-rdf-syntax-ns#Property\n",
            "http://www.oeg-upm.net/ontology#hasName http://www.w3.org/1999/02/22-rdf-syntax-ns#type http://www.w3.org/1999/02/22-rdf-syntax-ns#Property\n",
            "http://www.oeg-upm.net/ontology#hasColleague http://www.w3.org/2000/01/rdf-schema#range http://www.oeg-upm.net/ontology#Person\n"
          ]
        }
      ],
      "source": [
        "# TO DO\n",
        "g.add((ontology.hasName, RDF.type, RDF.Property))\n",
        "g.add((ontology.hasColleague, RDF.type, RDF.Property))\n",
        "g.add((ontology.hasHomePage, RDF.type, RDF.Property))\n",
        "\n",
        "labels1 = {\n",
        "    ontology.hasName: \"hasName\",\n",
        "    ontology.hasColleague: \"hasColleague\",\n",
        "    ontology.hasHomePage: \"hasHomePage\"\n",
        "}\n",
        "\n",
        "for prop, label in labels1.items():\n",
        "    g.add((prop, RDFS.label, Literal(label,datatype=XSD.string)))\n",
        "\n",
        "g.add((ontology.hasName, RDFS.domain, ontology.Person))\n",
        "g.add((ontology.hasName, RDFS.range, XSD.string))\n",
        "\n",
        "g.add((ontology.hasColleague, RDFS.domain, ontology.Person))\n",
        "g.add((ontology.hasColleague, RDFS.range, ontology.Person))\n",
        "\n",
        "g.add((ontology.hasHomePage, RDFS.domain, ontology.Person))\n",
        "g.add((ontology.hasHomePage, RDFS.range, XSD.string))\n",
        "# Visualize the results\n",
        "for s, p, o in g:\n",
        "  print(s,p,o)"
      ]
    },
    {
      "cell_type": "code",
      "source": [
        "# Validation. Do not remove\n",
        "r.validate_task_06_02(g)"
      ],
      "metadata": {
        "id": "pd2mE-vGaxbu",
        "colab": {
          "base_uri": "https://localhost:8080/"
        },
        "outputId": "545ec1ea-7d18-48ba-fc4f-2a57b8e6342a"
      },
      "execution_count": 153,
      "outputs": [
        {
          "output_type": "stream",
          "name": "stdout",
          "text": [
            "ERROR: hasName has an incorrect domain or range\n",
            "ERROR: hasHomePage has an incorrect domain or range\n",
            "ERROR IN TASK 6.2\n"
          ]
        }
      ]
    },
    {
      "cell_type": "markdown",
      "metadata": {
        "id": "OGct6k7Ld9O0"
      },
      "source": [
        "**TASK 6.3: Create the individuals shown in slide 36 under \"Datos\". Link them with the same relationships shown in the diagram.\"**"
      ]
    },
    {
      "cell_type": "code",
      "execution_count": 154,
      "metadata": {
        "id": "jbMMSHSZcFcf",
        "colab": {
          "base_uri": "https://localhost:8080/"
        },
        "outputId": "cc0d95fe-70fe-429c-daa1-f147715e8b14"
      },
      "outputs": [
        {
          "output_type": "stream",
          "name": "stdout",
          "text": [
            "http://www.oeg-upm.net/ontology#hasColleague http://www.w3.org/2000/01/rdf-schema#domain http://www.oeg-upm.net/ontology#Person\n",
            "http://www.oeg-upm.net/ontology#FullProfessor http://www.w3.org/2000/01/rdf-schema#label FullProfessor\n",
            "http://www.oeg-upm.net/ontology/person#Asun http://www.oeg-upm.net/ontology/person#hasHomePage http://www.oeg-upm.net/\n",
            "http://www.oeg-upm.net/ontology/person#Asun http://www.w3.org/2000/01/rdf-schema#label Asun\n",
            "http://www.oeg-upm.net/ontology#Person http://www.w3.org/1999/02/22-rdf-syntax-ns#type http://www.w3.org/2000/01/rdf-schema#Class\n",
            "http://www.oeg-upm.net/ontology/person#Asun http://www.oeg-upm.net/ontology/person#hasColleague http://www.oeg-upm.net/ontology/person#Raul\n",
            "http://www.oeg-upm.net/ontology#Professor http://www.w3.org/2000/01/rdf-schema#subClassOf http://www.oeg-upm.net/ontology#Person\n",
            "http://www.oeg-upm.net/ontology#hasHomePage http://www.w3.org/2000/01/rdf-schema#label hasHomePage\n",
            "http://www.oeg-upm.net/ontology#hasName http://www.w3.org/2000/01/rdf-schema#range http://www.w3.org/2001/XMLSchema#string\n",
            "http://www.oeg-upm.net/ontology#Professor http://www.w3.org/1999/02/22-rdf-syntax-ns#type http://www.w3.org/2000/01/rdf-schema#Class\n",
            "http://www.oeg-upm.net/ontology#AssociateProfessor http://www.w3.org/1999/02/22-rdf-syntax-ns#type http://www.w3.org/2000/01/rdf-schema#Class\n",
            "http://www.oeg-upm.net/ontology#hasName http://www.w3.org/2000/01/rdf-schema#label hasName\n",
            "http://www.oeg-upm.net/ontology#hasHomePage http://www.w3.org/2000/01/rdf-schema#range http://www.w3.org/2001/XMLSchema#string\n",
            "http://www.oeg-upm.net/ontology/person#Oscar http://www.w3.org/1999/02/22-rdf-syntax-ns#type http://www.oeg-upm.net/ontology/person#AssociateProfessor\n",
            "http://www.oeg-upm.net/ontology/person#Oscar http://www.w3.org/2000/01/rdf-schema#label Oscar\n",
            "http://www.oeg-upm.net/ontology#hasHomePage http://www.w3.org/2000/01/rdf-schema#domain http://www.oeg-upm.net/ontology#Person\n",
            "http://www.oeg-upm.net/ontology#hasColleague http://www.w3.org/1999/02/22-rdf-syntax-ns#type http://www.w3.org/1999/02/22-rdf-syntax-ns#Property\n",
            "http://www.oeg-upm.net/ontology#hasColleague http://www.w3.org/2000/01/rdf-schema#range http://www.oeg-upm.net/ontology#Person\n",
            "http://www.oeg-upm.net/ontology#AssociateProfessor http://www.w3.org/2000/01/rdf-schema#subClassOf http://www.oeg-upm.net/ontology#Professor\n",
            "http://www.oeg-upm.net/ontology#hasName http://www.w3.org/2000/01/rdf-schema#domain http://www.oeg-upm.net/ontology#Person\n",
            "http://www.oeg-upm.net/ontology#Person http://www.w3.org/2000/01/rdf-schema#label Person\n",
            "http://www.oeg-upm.net/ontology/person#Raul http://www.w3.org/2000/01/rdf-schema#label Raul\n",
            "http://www.oeg-upm.net/ontology#InterimAssociateProfessor http://www.w3.org/1999/02/22-rdf-syntax-ns#type http://www.w3.org/2000/01/rdf-schema#Class\n",
            "http://www.oeg-upm.net/ontology/person#Oscar http://www.oeg-upm.net/ontology/person#hasName Óscar Corcho García\n",
            "http://mydomain.org#Researcher http://www.w3.org/1999/02/22-rdf-syntax-ns#type http://www.w3.org/2000/01/rdf-schema#Class\n",
            "http://www.oeg-upm.net/ontology#hasColleague http://www.w3.org/2000/01/rdf-schema#label hasColleague\n",
            "http://www.oeg-upm.net/ontology#InterimAssociateProfessor http://www.w3.org/2000/01/rdf-schema#label InterimAssociateProfessor\n",
            "http://www.oeg-upm.net/ontology/person#Oscar http://www.oeg-upm.net/ontology/person#hasColleague http://www.oeg-upm.net/ontology/person#Asun\n",
            "http://www.oeg-upm.net/ontology#InterimAssociateProfessor http://www.w3.org/2000/01/rdf-schema#subClassOf http://www.oeg-upm.net/ontology#AssociateProfessor\n",
            "http://www.oeg-upm.net/ontology#AssociateProfessor http://www.w3.org/2000/01/rdf-schema#label AssociateProfessor\n",
            "http://www.oeg-upm.net/ontology#FullProfessor http://www.w3.org/1999/02/22-rdf-syntax-ns#type http://www.w3.org/2000/01/rdf-schema#Class\n",
            "http://www.oeg-upm.net/ontology#Professor http://www.w3.org/2000/01/rdf-schema#label Professor\n",
            "http://www.oeg-upm.net/ontology#hasHomePage http://www.w3.org/1999/02/22-rdf-syntax-ns#type http://www.w3.org/1999/02/22-rdf-syntax-ns#Property\n",
            "http://www.oeg-upm.net/ontology#FullProfessor http://www.w3.org/2000/01/rdf-schema#subClassOf http://www.oeg-upm.net/ontology#Professor\n",
            "http://www.oeg-upm.net/ontology/person#Asun http://www.w3.org/1999/02/22-rdf-syntax-ns#type http://www.oeg-upm.net/ontology/person#FullProfessor\n",
            "http://www.oeg-upm.net/ontology/person#Raul http://www.w3.org/1999/02/22-rdf-syntax-ns#type http://www.oeg-upm.net/ontology/person#InterimAssociateProfessor\n",
            "http://www.oeg-upm.net/ontology#hasName http://www.w3.org/1999/02/22-rdf-syntax-ns#type http://www.w3.org/1999/02/22-rdf-syntax-ns#Property\n"
          ]
        }
      ],
      "source": [
        "# TO DO\n",
        "\n",
        "g.add((person.Raul, RDF.type, person.InterimAssociateProfessor))\n",
        "g.add((person.Raul, RDFS.label, Literal(\"Raul\", datatype=XSD.string)))\n",
        "\n",
        "g.add((person.Asun, RDF.type, person.FullProfessor))\n",
        "g.add((person.Asun, RDFS.label, Literal(\"Asun\", datatype=XSD.string)))\n",
        "g.add((person.Asun, person.hasHomePage, Literal(\"http://www.oeg-upm.net/\")))\n",
        "g.add((person.Asun, person.hasColleague, person.Raul))\n",
        "\n",
        "g.add((person.Oscar, RDF.type, person.AssociateProfessor))\n",
        "g.add((person.Oscar, RDFS.label, Literal(\"Oscar\", datatype=XSD.string)))\n",
        "g.add((person.Oscar, person.hasName, Literal(\"Óscar Corcho García\")))\n",
        "g.add((person.Oscar, person.hasColleague, person.Asun))\n",
        "# Visualize the results\n",
        "for s, p, o in g:\n",
        "  print(s,p,o)"
      ]
    },
    {
      "cell_type": "code",
      "source": [
        "r.validate_task_06_03(g)"
      ],
      "metadata": {
        "id": "-3q4Wv2EfYew",
        "colab": {
          "base_uri": "https://localhost:8080/"
        },
        "outputId": "631be8f7-83fe-4ae8-e683-41b3b95a4500"
      },
      "execution_count": 155,
      "outputs": [
        {
          "output_type": "stream",
          "name": "stdout",
          "text": [
            "ERROR: Oscar has an incorrect namespace\n",
            "ERROR: Asun has an incorrect namespace\n",
            "ERROR: Raul has an incorrect namespace\n",
            "ERROR IN TASK 6.3\n"
          ]
        }
      ]
    },
    {
      "cell_type": "markdown",
      "metadata": {
        "id": "tD383J__eHfV"
      },
      "source": [
        "**TASK 6.4: Add to the individual person:Oscar the email address, given and family names. Use the properties already included in example 4 to describe Jane and John (https://raw.githubusercontent.com/FacultadInformatica-LinkedData/Curso2025-2026/master/Assignment4/course_materials/rdf/example4.rdf). Do not import the namespaces, add them manually**\n"
      ]
    },
    {
      "cell_type": "code",
      "execution_count": 156,
      "metadata": {
        "id": "hWmwlAfBcgN-",
        "colab": {
          "base_uri": "https://localhost:8080/"
        },
        "outputId": "2e605e49-9adb-4d00-b525-2960316308ca"
      },
      "outputs": [
        {
          "output_type": "stream",
          "name": "stdout",
          "text": [
            "http://www.oeg-upm.net/ontology#hasEmail http://www.w3.org/2000/01/rdf-schema#label hasEmail\n",
            "http://www.oeg-upm.net/ontology#hasColleague http://www.w3.org/2000/01/rdf-schema#domain http://www.oeg-upm.net/ontology#Person\n",
            "http://www.oeg-upm.net/ontology#hasGivenName http://www.w3.org/2000/01/rdf-schema#range http://www.w3.org/2001/XMLSchema#string\n",
            "http://www.oeg-upm.net/ontology#FullProfessor http://www.w3.org/2000/01/rdf-schema#label FullProfessor\n",
            "http://www.oeg-upm.net/ontology/person#Asun http://www.oeg-upm.net/ontology/person#hasHomePage http://www.oeg-upm.net/\n",
            "http://www.oeg-upm.net/ontology/person#Asun http://www.w3.org/2000/01/rdf-schema#label Asun\n",
            "http://www.oeg-upm.net/ontology#hasGivenName http://www.w3.org/2000/01/rdf-schema#domain http://www.oeg-upm.net/ontology#Person\n",
            "http://www.oeg-upm.net/ontology#Person http://www.w3.org/1999/02/22-rdf-syntax-ns#type http://www.w3.org/2000/01/rdf-schema#Class\n",
            "http://www.oeg-upm.net/ontology/person#Asun http://www.oeg-upm.net/ontology/person#hasColleague http://www.oeg-upm.net/ontology/person#Raul\n",
            "http://www.oeg-upm.net/ontology#hasFamilyName http://www.w3.org/2000/01/rdf-schema#label hasFamilyName\n",
            "http://www.oeg-upm.net/ontology#Professor http://www.w3.org/2000/01/rdf-schema#subClassOf http://www.oeg-upm.net/ontology#Person\n",
            "http://www.oeg-upm.net/ontology#hasHomePage http://www.w3.org/2000/01/rdf-schema#label hasHomePage\n",
            "http://www.oeg-upm.net/ontology#hasName http://www.w3.org/2000/01/rdf-schema#range http://www.w3.org/2001/XMLSchema#string\n",
            "http://www.oeg-upm.net/ontology#Professor http://www.w3.org/1999/02/22-rdf-syntax-ns#type http://www.w3.org/2000/01/rdf-schema#Class\n",
            "http://www.oeg-upm.net/ontology#hasEmail http://www.w3.org/1999/02/22-rdf-syntax-ns#type http://www.w3.org/1999/02/22-rdf-syntax-ns#Property\n",
            "http://www.oeg-upm.net/ontology/person#oscar http://www.oeg-upm.net/ontology/person#hasFamilyName CorchoGarcía\n",
            "http://www.oeg-upm.net/ontology#AssociateProfessor http://www.w3.org/1999/02/22-rdf-syntax-ns#type http://www.w3.org/2000/01/rdf-schema#Class\n",
            "http://www.oeg-upm.net/ontology#hasName http://www.w3.org/2000/01/rdf-schema#label hasName\n",
            "http://www.oeg-upm.net/ontology#hasEmail http://www.w3.org/2000/01/rdf-schema#range http://www.w3.org/2001/XMLSchema#string\n",
            "http://www.oeg-upm.net/ontology#hasHomePage http://www.w3.org/2000/01/rdf-schema#range http://www.w3.org/2001/XMLSchema#string\n",
            "http://www.oeg-upm.net/ontology/person#Oscar http://www.w3.org/1999/02/22-rdf-syntax-ns#type http://www.oeg-upm.net/ontology/person#AssociateProfessor\n",
            "http://www.oeg-upm.net/ontology#hasGivenName http://www.w3.org/2000/01/rdf-schema#label hasGivenName\n",
            "http://www.oeg-upm.net/ontology/person#Oscar http://www.w3.org/2000/01/rdf-schema#label Oscar\n",
            "http://www.oeg-upm.net/ontology#hasHomePage http://www.w3.org/2000/01/rdf-schema#domain http://www.oeg-upm.net/ontology#Person\n",
            "http://www.oeg-upm.net/ontology#hasFamilyName http://www.w3.org/2000/01/rdf-schema#range http://www.w3.org/2001/XMLSchema#string\n",
            "http://www.oeg-upm.net/ontology#hasColleague http://www.w3.org/1999/02/22-rdf-syntax-ns#type http://www.w3.org/1999/02/22-rdf-syntax-ns#Property\n",
            "http://www.oeg-upm.net/ontology#hasColleague http://www.w3.org/2000/01/rdf-schema#range http://www.oeg-upm.net/ontology#Person\n",
            "http://www.oeg-upm.net/ontology#hasEmail http://www.w3.org/2000/01/rdf-schema#domain http://www.oeg-upm.net/ontology#Person\n",
            "http://www.oeg-upm.net/ontology#AssociateProfessor http://www.w3.org/2000/01/rdf-schema#subClassOf http://www.oeg-upm.net/ontology#Professor\n",
            "http://www.oeg-upm.net/ontology#hasName http://www.w3.org/2000/01/rdf-schema#domain http://www.oeg-upm.net/ontology#Person\n",
            "http://www.oeg-upm.net/ontology#Person http://www.w3.org/2000/01/rdf-schema#label Person\n",
            "http://www.oeg-upm.net/ontology/person#Raul http://www.w3.org/2000/01/rdf-schema#label Raul\n",
            "http://www.oeg-upm.net/ontology#hasFamilyName http://www.w3.org/2000/01/rdf-schema#domain http://www.oeg-upm.net/ontology#Person\n",
            "http://www.oeg-upm.net/ontology#hasGivenName http://www.w3.org/1999/02/22-rdf-syntax-ns#type http://www.w3.org/1999/02/22-rdf-syntax-ns#Property\n",
            "http://www.oeg-upm.net/ontology/person#oscar http://www.oeg-upm.net/ontology/person#hasEmail oscar@\n",
            "http://www.oeg-upm.net/ontology#InterimAssociateProfessor http://www.w3.org/1999/02/22-rdf-syntax-ns#type http://www.w3.org/2000/01/rdf-schema#Class\n",
            "http://www.oeg-upm.net/ontology/person#Oscar http://www.oeg-upm.net/ontology/person#hasName Óscar Corcho García\n",
            "http://mydomain.org#Researcher http://www.w3.org/1999/02/22-rdf-syntax-ns#type http://www.w3.org/2000/01/rdf-schema#Class\n",
            "http://www.oeg-upm.net/ontology#hasColleague http://www.w3.org/2000/01/rdf-schema#label hasColleague\n",
            "http://www.oeg-upm.net/ontology#InterimAssociateProfessor http://www.w3.org/2000/01/rdf-schema#label InterimAssociateProfessor\n",
            "http://www.oeg-upm.net/ontology/person#oscar http://www.oeg-upm.net/ontology/person#hasGivenName Oscar\n",
            "http://www.oeg-upm.net/ontology/person#Oscar http://www.oeg-upm.net/ontology/person#hasColleague http://www.oeg-upm.net/ontology/person#Asun\n",
            "http://www.oeg-upm.net/ontology#InterimAssociateProfessor http://www.w3.org/2000/01/rdf-schema#subClassOf http://www.oeg-upm.net/ontology#AssociateProfessor\n",
            "http://www.oeg-upm.net/ontology#AssociateProfessor http://www.w3.org/2000/01/rdf-schema#label AssociateProfessor\n",
            "http://www.oeg-upm.net/ontology#FullProfessor http://www.w3.org/1999/02/22-rdf-syntax-ns#type http://www.w3.org/2000/01/rdf-schema#Class\n",
            "http://www.oeg-upm.net/ontology#Professor http://www.w3.org/2000/01/rdf-schema#label Professor\n",
            "http://www.oeg-upm.net/ontology#hasHomePage http://www.w3.org/1999/02/22-rdf-syntax-ns#type http://www.w3.org/1999/02/22-rdf-syntax-ns#Property\n",
            "http://www.oeg-upm.net/ontology#hasFamilyName http://www.w3.org/1999/02/22-rdf-syntax-ns#type http://www.w3.org/1999/02/22-rdf-syntax-ns#Property\n",
            "http://www.oeg-upm.net/ontology#FullProfessor http://www.w3.org/2000/01/rdf-schema#subClassOf http://www.oeg-upm.net/ontology#Professor\n",
            "http://www.oeg-upm.net/ontology/person#Asun http://www.w3.org/1999/02/22-rdf-syntax-ns#type http://www.oeg-upm.net/ontology/person#FullProfessor\n",
            "http://www.oeg-upm.net/ontology/person#Raul http://www.w3.org/1999/02/22-rdf-syntax-ns#type http://www.oeg-upm.net/ontology/person#InterimAssociateProfessor\n",
            "http://www.oeg-upm.net/ontology#hasName http://www.w3.org/1999/02/22-rdf-syntax-ns#type http://www.w3.org/1999/02/22-rdf-syntax-ns#Property\n"
          ]
        }
      ],
      "source": [
        "# TO DO\n",
        "g.add((ontology.hasGivenName, RDF.type, RDF.Property))\n",
        "g.add((ontology.hasFamilyName, RDF.type, RDF.Property))\n",
        "g.add((ontology.hasEmail, RDF.type, RDF.Property))\n",
        "\n",
        "labels1 = {\n",
        "    ontology.hasGivenName: \"hasGivenName\",\n",
        "    ontology.hasFamilyName: \"hasFamilyName\",\n",
        "    ontology.hasEmail: \"hasEmail\"\n",
        "}\n",
        "\n",
        "for prop, label in labels1.items():\n",
        "    g.add((prop, RDFS.label, Literal(label,datatype=XSD.string)))\n",
        "\n",
        "g.add((ontology.hasGivenName, RDFS.domain, ontology.Person))\n",
        "g.add((ontology.hasGivenName, RDFS.range, XSD.string))\n",
        "\n",
        "g.add((ontology.hasEmail, RDFS.domain, ontology.Person))\n",
        "g.add((ontology.hasEmail, RDFS.range, XSD.string))\n",
        "\n",
        "\n",
        "g.add((ontology.hasFamilyName, RDFS.domain, ontology.Person))\n",
        "g.add((ontology.hasFamilyName, RDFS.range, XSD.string))\n",
        "g.add((person.oscar, person.hasGivenName, Literal(\"Oscar\")))\n",
        "g.add((person.oscar, person.hasFamilyName, Literal(\"CorchoGarcía\")))\n",
        "g.add((person.oscar, person.hasEmail, Literal(\"oscar@\")))\n",
        "# Visualize the results\n",
        "for s, p, o in g:\n",
        "  print(s,p,o)"
      ]
    },
    {
      "cell_type": "code",
      "source": [
        "# Validation. Do not remove\n",
        "r.validate_task_06_04(g)\n",
        "r.save_report(\"_Task_06\")"
      ],
      "metadata": {
        "id": "Y1NiIQMyfgyF",
        "colab": {
          "base_uri": "https://localhost:8080/"
        },
        "outputId": "365da28f-5537-4cce-faa2-ab1df4e05b3d"
      },
      "execution_count": 157,
      "outputs": [
        {
          "output_type": "stream",
          "name": "stdout",
          "text": [
            "ERROR: One of the properties from Oscar has no correct namespace or does not exist. Please double check\n",
            "ERROR: One of the properties from Oscar has no correct namespace or does not exist. Please double check\n",
            "ERROR: One of the properties from Oscar has no correct namespace or does not exist. Please double check\n",
            "ERROR IN TASK 6.4\n"
          ]
        }
      ]
    }
  ],
  "metadata": {
    "colab": {
      "provenance": [],
      "include_colab_link": true
    },
    "kernelspec": {
      "display_name": "Python 3 (ipykernel)",
      "language": "python",
      "name": "python3"
    },
    "language_info": {
      "codemirror_mode": {
        "name": "ipython",
        "version": 3
      },
      "file_extension": ".py",
      "mimetype": "text/x-python",
      "name": "python",
      "nbconvert_exporter": "python",
      "pygments_lexer": "ipython3",
      "version": "3.9.5"
    }
  },
  "nbformat": 4,
  "nbformat_minor": 0
}