{
 "cells": [
  {
   "cell_type": "markdown",
   "metadata": {
    "id": "nOOPLCHF7hLB"
   },
   "source": [
    "**Task 06: Modifying RDF(s)**"
   ]
  },
  {
   "cell_type": "code",
   "execution_count": null,
   "metadata": {
    "colab": {
     "base_uri": "https://localhost:8080/"
    },
    "executionInfo": {
     "elapsed": 9809,
     "status": "ok",
     "timestamp": 1761321271933,
     "user": {
      "displayName": "Gonzalo Hernandez Vaillo",
      "userId": "13071205746996859788"
     },
     "user_tz": -120
    },
    "id": "Yl9npCt8n6m-",
    "outputId": "213bca10-042e-41ca-e0b4-1f2444732fcf"
   },
   "outputs": [
    {
     "ename": "",
     "evalue": "",
     "output_type": "error",
     "traceback": [
      "\u001b[1;31mRunning cells with 'base (Python 3.13.5)' requires the ipykernel package.\n",
      "\u001b[1;31m<a href='command:jupyter.createPythonEnvAndSelectController'>Create a Python Environment</a> with the required packages."
     ]
    }
   ],
   "source": [
    "!pip install rdflib\n",
    "import urllib.request\n",
    "url = 'https://raw.githubusercontent.com/FacultadInformatica-LinkedData/Curso2025-2026/refs/heads/master/Assignment4/course_materials/python/validation.py'\n",
    "urllib.request.urlretrieve(url, 'validation.py')\n",
    "github_storage = \"https://raw.githubusercontent.com/FacultadInformatica-LinkedData/Curso2025-2026/master/Assignment4/course_materials\""
   ]
  },
  {
   "cell_type": "markdown",
   "metadata": {
    "id": "XY7aPc86Bqoo"
   },
   "source": [
    "Import RDFLib main methods"
   ]
  },
  {
   "cell_type": "code",
   "execution_count": null,
   "metadata": {
    "executionInfo": {
     "elapsed": 68,
     "status": "ok",
     "timestamp": 1761321272006,
     "user": {
      "displayName": "Gonzalo Hernandez Vaillo",
      "userId": "13071205746996859788"
     },
     "user_tz": -120
    },
    "id": "9ERh415on7kF"
   },
   "outputs": [],
   "source": [
    "from rdflib import Graph, Namespace, Literal, XSD\n",
    "from rdflib.namespace import RDF, RDFS\n",
    "from validation import Report\n",
    "g = Graph()\n",
    "g.namespace_manager.bind('ns', Namespace(\"http://somewhere#\"), override=False)\n",
    "r = Report()"
   ]
  },
  {
   "cell_type": "markdown",
   "metadata": {
    "id": "gM3DASkTQQ5Y"
   },
   "source": [
    "Create a new class named Researcher"
   ]
  },
  {
   "cell_type": "code",
   "execution_count": null,
   "metadata": {
    "colab": {
     "base_uri": "https://localhost:8080/"
    },
    "executionInfo": {
     "elapsed": 21,
     "status": "ok",
     "timestamp": 1761321272030,
     "user": {
      "displayName": "Gonzalo Hernandez Vaillo",
      "userId": "13071205746996859788"
     },
     "user_tz": -120
    },
    "id": "6vtudax8Xb7b",
    "outputId": "b2f2a41a-3bdf-4361-9d1f-f2610c1f0f30"
   },
   "outputs": [],
   "source": [
    "ns = Namespace(\"http://mydomain.org#\")\n",
    "g.add((ns.Researcher, RDF.type, RDFS.Class))\n",
    "for s, p, o in g:\n",
    "  print(s,p,o)"
   ]
  },
  {
   "cell_type": "markdown",
   "metadata": {
    "id": "ZX8w9jnV5Xhp"
   },
   "source": [
    "**Task 6.0: Create new prefixes for \"ontology\" and \"person\" as shown in slide 14 of the Slidedeck 01a.RDF(s)-SPARQL shown in class.**"
   ]
  },
  {
   "cell_type": "code",
   "execution_count": null,
   "metadata": {
    "executionInfo": {
     "elapsed": 11,
     "status": "ok",
     "timestamp": 1761321272042,
     "user": {
      "displayName": "Gonzalo Hernandez Vaillo",
      "userId": "13071205746996859788"
     },
     "user_tz": -120
    },
    "id": "b1ZQgYgB5vi7"
   },
   "outputs": [],
   "source": [
    "# this task is validated in the next step\n",
    "ont = Namespace(\"http://oeg.fi.upm.es/def/ontology#\")\n",
    "per = Namespace(\"http://oeg.fi.upm.es/def/people#\")"
   ]
  },
  {
   "cell_type": "markdown",
   "metadata": {
    "id": "qp1oe2Eddsvo"
   },
   "source": [
    "**TASK 6.1: Reproduce the taxonomy of classes shown in slide 34 in class (all the classes under \"Vocabulario\", Slidedeck: 01a.RDF(s)-SPARQL). Add labels for each of them as they are in the diagram (exactly) with no language tags. Remember adding the correct datatype (xsd:String) when appropriate**\n"
   ]
  },
  {
   "cell_type": "code",
   "execution_count": null,
   "metadata": {
    "colab": {
     "base_uri": "https://localhost:8080/"
    },
    "executionInfo": {
     "elapsed": 5,
     "status": "ok",
     "timestamp": 1761321272049,
     "user": {
      "displayName": "Gonzalo Hernandez Vaillo",
      "userId": "13071205746996859788"
     },
     "user_tz": -120
    },
    "id": "pnsrsgRUWF3A",
    "outputId": "0a7e2c9a-c1ec-4063-f570-ed62d101511f"
   },
   "outputs": [],
   "source": [
    "# TO DO\n",
    "#Persona\n",
    "g.add((per.Person, RDF.type, RDFS.Class))\n",
    "g.add((per.Person, RDFS.label, Literal(\"Person\", datatype=XSD.string)))\n",
    "#Profesor\n",
    "g.add((per.Professor, RDF.type, RDFS.Class))\n",
    "g.add((per.Professor, RDFS.subClassOf, per.Person))\n",
    "g.add((per.Professor, RDFS.label, Literal(\"Professor\", datatype=XSD.string)))\n",
    "#Professor COmpleto\n",
    "g.add((per.FullProfessor, RDF.type, RDFS.Class))\n",
    "g.add((per.FullProfessor, RDFS.subClassOf, per.Professor))\n",
    "g.add((per.FullProfessor, RDFS.label, Literal(\"FullProfessor\", datatype=XSD.string)))\n",
    "#Profesor Asociado\n",
    "g.add((per.AssociateProfessor, RDF.type, RDFS.Class))\n",
    "g.add((per.AssociateProfessor, RDFS.subClassOf, per.Professor))\n",
    "g.add((per.AssociateProfessor, RDFS.label, Literal(\"AssociateProfessor\", datatype=XSD.string)))\n",
    "#Profesor INterino\n",
    "g.add((per.InterimAssociateProfessor, RDF.type, RDFS.Class))\n",
    "g.add((per.InterimAssociateProfessor, RDFS.subClassOf, per.AssociateProfessor))\n",
    "g.add((per.InterimAssociateProfessor, RDFS.label, Literal(\"InterimAssociateProfessor\", datatype=XSD.string)))\n",
    "# Visualize the results\n",
    "for s, p, o in g:\n",
    "  print(s,p,o)"
   ]
  },
  {
   "cell_type": "code",
   "execution_count": null,
   "metadata": {
    "colab": {
     "base_uri": "https://localhost:8080/"
    },
    "executionInfo": {
     "elapsed": 14,
     "status": "ok",
     "timestamp": 1761322852753,
     "user": {
      "displayName": "Gonzalo Hernandez Vaillo",
      "userId": "13071205746996859788"
     },
     "user_tz": -120
    },
    "id": "HdRPyusrjIuB",
    "outputId": "9100a4cd-8ac9-4109-9f04-0e53c7fb45eb"
   },
   "outputs": [],
   "source": [
    "# Validation. Do not remove\n",
    "r.validate_task_06_01(g)"
   ]
  },
  {
   "cell_type": "markdown",
   "metadata": {
    "id": "MXBqtBkJd22I"
   },
   "source": [
    "**TASK 6.2: Add the 3 properties shown in slide 36. Add labels for each of them (exactly as they are in the slide, with no language tags), and their corresponding domains and ranges using RDFS. Remember adding the correct datatype (xsd:String) when appropriate. If a property has no range, make it a literal (string)**"
   ]
  },
  {
   "cell_type": "code",
   "execution_count": null,
   "metadata": {
    "colab": {
     "base_uri": "https://localhost:8080/"
    },
    "executionInfo": {
     "elapsed": 22,
     "status": "ok",
     "timestamp": 1761240880664,
     "user": {
      "displayName": "Gonzalo Hernandez Vaillo",
      "userId": "13071205746996859788"
     },
     "user_tz": -120
    },
    "id": "53hZNtXsXCNq",
    "outputId": "6bca568b-c887-4b5d-bc62-0595963edaa8"
   },
   "outputs": [],
   "source": [
    "# TO DO\n",
    "#Propiedad hasName\n",
    "g.add((per.hasName, RDF.type, RDF.Property))\n",
    "g.add((per.hasName, RDFS.domain, per.Person))\n",
    "g.add((per.hasName, RDFS.range, RDFS.Literal))\n",
    "g.add((per.hasName, RDFS.label, Literal(\"hasName\", datatype=XSD.string)))\n",
    "#Propiedad hasColleague\n",
    "g.add((per.hasColleague, RDF.type, RDF.Property))\n",
    "g.add((per.hasColleague, RDFS.domain, per.Person))\n",
    "g.add((per.hasColleague, RDFS.range, per.Person))\n",
    "g.add((per.hasColleague, RDFS.label, Literal(\"hasColleague\", datatype=XSD.string)))\n",
    "#Propiedad hasHomePage\n",
    "g.add((per.hasHomePage, RDF.type, RDF.Property))\n",
    "g.add((per.hasHomePage, RDFS.domain, per.FullProfessor))\n",
    "g.add((per.hasHomePage, RDFS.range, RDFS.Literal))\n",
    "g.add((per.hasHomePage, RDFS.label, Literal(\"hasHomePage\", datatype=XSD.string)))\n",
    "# Visualize the results\n",
    "for s, p, o in g:\n",
    "  print(s,p,o)"
   ]
  },
  {
   "cell_type": "code",
   "execution_count": null,
   "metadata": {
    "colab": {
     "base_uri": "https://localhost:8080/"
    },
    "executionInfo": {
     "elapsed": 20,
     "status": "ok",
     "timestamp": 1761240882759,
     "user": {
      "displayName": "Gonzalo Hernandez Vaillo",
      "userId": "13071205746996859788"
     },
     "user_tz": -120
    },
    "id": "pd2mE-vGaxbu",
    "outputId": "cabd7ea2-fef8-417b-dff5-94b9e23001d5"
   },
   "outputs": [],
   "source": [
    "# Validation. Do not remove\n",
    "r.validate_task_06_02(g)"
   ]
  },
  {
   "cell_type": "markdown",
   "metadata": {
    "id": "OGct6k7Ld9O0"
   },
   "source": [
    "**TASK 6.3: Create the individuals shown in slide 36 under \"Datos\". Link them with the same relationships shown in the diagram.\"**"
   ]
  },
  {
   "cell_type": "code",
   "execution_count": null,
   "metadata": {
    "colab": {
     "base_uri": "https://localhost:8080/"
    },
    "executionInfo": {
     "elapsed": 13,
     "status": "ok",
     "timestamp": 1761240965479,
     "user": {
      "displayName": "Gonzalo Hernandez Vaillo",
      "userId": "13071205746996859788"
     },
     "user_tz": -120
    },
    "id": "jbMMSHSZcFcf",
    "outputId": "f6a0e42c-25a3-4a80-83b7-3b21e39b243a"
   },
   "outputs": [],
   "source": [
    "# TO DO\n",
    "#Namespace\n",
    "data = Namespace(\"http://oeg.fi.upm.es/resource/person/\")\n",
    "#Oscar\n",
    "g.add((data.Oscar, RDF.type, per.AssociateProfessor))\n",
    "g.add((data.Oscar, per.hasColleague, data.Asun))\n",
    "g.add((data.Oscar, per.hasName, Literal(\"Oscar Corcho García\", datatype=XSD.string)))\n",
    "g.add((data.Oscar, RDFS.label, Literal(\"Oscar\", datatype=XSD.string)))\n",
    "#Asun\n",
    "g.add((data.Asun, RDF.type, per.FullProfessor))\n",
    "g.add((data.Asun, per.hasColleague, data.Raul))\n",
    "g.add((data.Asun, per.hasHomePage, Literal(\"http://www.oeg-upm.net/\", datatype=XSD.string)))\n",
    "g.add((data.Asun, RDFS.label, Literal(\"Asun\", datatype=XSD.string)))\n",
    "#Raul\n",
    "g.add((data.Raul, RDF.type, per.InterimAssociateProfessor))\n",
    "g.add((data.Raul, RDFS.label, Literal(\"Raul\", datatype=XSD.string)))\n",
    "# Visualize the results\n",
    "for s, p, o in g:\n",
    "  print(s,p,o)"
   ]
  },
  {
   "cell_type": "code",
   "execution_count": null,
   "metadata": {
    "colab": {
     "base_uri": "https://localhost:8080/"
    },
    "executionInfo": {
     "elapsed": 16,
     "status": "ok",
     "timestamp": 1761240968505,
     "user": {
      "displayName": "Gonzalo Hernandez Vaillo",
      "userId": "13071205746996859788"
     },
     "user_tz": -120
    },
    "id": "-3q4Wv2EfYew",
    "outputId": "d8b7531a-b028-49df-d303-7e8d47f6903e"
   },
   "outputs": [],
   "source": [
    "r.validate_task_06_03(g)"
   ]
  },
  {
   "cell_type": "markdown",
   "metadata": {
    "id": "tD383J__eHfV"
   },
   "source": [
    "**TASK 6.4: Add to the individual person:Oscar the email address, given and family names. Use the properties already included in example 4 to describe Jane and John (https://raw.githubusercontent.com/FacultadInformatica-LinkedData/Curso2025-2026/master/Assignment4/course_materials/rdf/example4.rdf). Do not import the namespaces, add them manually**\n"
   ]
  },
  {
   "cell_type": "code",
   "execution_count": null,
   "metadata": {
    "colab": {
     "base_uri": "https://localhost:8080/"
    },
    "executionInfo": {
     "elapsed": 14,
     "status": "ok",
     "timestamp": 1761241072430,
     "user": {
      "displayName": "Gonzalo Hernandez Vaillo",
      "userId": "13071205746996859788"
     },
     "user_tz": -120
    },
    "id": "hWmwlAfBcgN-",
    "outputId": "64a0d523-5957-4034-ef00-e0f09a0c7628"
   },
   "outputs": [],
   "source": [
    "# TO DO\n",
    "#Namespace\n",
    "foaf = Namespace(\"http://xmlns.com/foaf/0.1/\")\n",
    "vcard = Namespace(\"http://www.w3.org/2001/vcard-rdf/3.0/\")\n",
    "#Nuevas relaciones\n",
    "g.add((vcard.Family, RDF.type, RDF.Property))\n",
    "g.add((vcard.Family, RDFS.range, XSD.string))\n",
    "g.add((vcard.Given, RDF.type, RDF.Property))\n",
    "g.add((vcard.Given, RDFS.range, XSD.string))\n",
    "g.add((foaf.email, RDF.type, RDFS.Datatype))\n",
    "g.add((foaf.eamil, RDFS.range, XSD.string))\n",
    "#Más info de Oscar\n",
    "g.add((data.Oscar, vcard.Given, Literal(\"Oscar\", datatype=XSD.string)))\n",
    "g.add((data.Oscar, vcard.Family, Literal(\"Corcho García\", datatype=XSD.string)))\n",
    "g.add((data.Oscar, foaf.email, Literal(\"ocorcho@fi.upm.es\", datatype=XSD.string)))\n",
    "# Visualize the results\n",
    "for s, p, o in g:\n",
    "  print(s,p,o)"
   ]
  },
  {
   "cell_type": "code",
   "execution_count": null,
   "metadata": {
    "colab": {
     "base_uri": "https://localhost:8080/"
    },
    "executionInfo": {
     "elapsed": 17,
     "status": "ok",
     "timestamp": 1761241075136,
     "user": {
      "displayName": "Gonzalo Hernandez Vaillo",
      "userId": "13071205746996859788"
     },
     "user_tz": -120
    },
    "id": "Y1NiIQMyfgyF",
    "outputId": "514cc283-789c-4ab0-9ab8-049307aa21d1"
   },
   "outputs": [],
   "source": [
    "# Validation. Do not remove\n",
    "r.validate_task_06_04(g)\n",
    "r.save_report(\"_Task_06\")"
   ]
  }
 ],
 "metadata": {
  "colab": {
   "provenance": []
  },
  "kernelspec": {
   "display_name": "base",
   "language": "python",
   "name": "python3"
  },
  "language_info": {
   "codemirror_mode": {
    "name": "ipython",
    "version": 3
   },
   "file_extension": ".py",
   "mimetype": "text/x-python",
   "name": "python",
   "nbconvert_exporter": "python",
   "pygments_lexer": "ipython3",
   "version": "3.13.5"
  }
 },
 "nbformat": 4,
 "nbformat_minor": 0
}
