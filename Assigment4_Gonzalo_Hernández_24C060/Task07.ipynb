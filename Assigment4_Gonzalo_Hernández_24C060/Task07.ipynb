{
 "cells": [
  {
   "cell_type": "markdown",
   "metadata": {
    "id": "nOOPLCHF7hLB"
   },
   "source": [
    "**Task 07: Querying RDF(s)**"
   ]
  },
  {
   "cell_type": "code",
   "execution_count": 1,
   "metadata": {
    "colab": {
     "base_uri": "https://localhost:8080/"
    },
    "executionInfo": {
     "elapsed": 5297,
     "status": "ok",
     "timestamp": 1761241613452,
     "user": {
      "displayName": "Gonzalo Hernandez Vaillo",
      "userId": "13071205746996859788"
     },
     "user_tz": -120
    },
    "id": "Yl9npCt8n6m-",
    "outputId": "0a1b0036-4921-4cfd-b5fa-2fe1cadc5133"
   },
   "outputs": [
    {
     "name": "stderr",
     "output_type": "stream",
     "text": [
      "\"pip\" no se reconoce como un comando interno o externo,\n",
      "programa o archivo por lotes ejecutable.\n"
     ]
    }
   ],
   "source": [
    "!pip install rdflib\n",
    "import urllib.request\n",
    "url = 'https://raw.githubusercontent.com/FacultadInformatica-LinkedData/Curso2025-2026/refs/heads/master/Assignment4/course_materials/python/validation.py'\n",
    "urllib.request.urlretrieve(url, 'validation.py')\n",
    "github_storage = \"https://raw.githubusercontent.com/FacultadInformatica-LinkedData/Curso2025-2026/master/Assignment4/course_materials\""
   ]
  },
  {
   "cell_type": "code",
   "execution_count": 2,
   "metadata": {
    "executionInfo": {
     "elapsed": 23,
     "status": "ok",
     "timestamp": 1761241615539,
     "user": {
      "displayName": "Gonzalo Hernandez Vaillo",
      "userId": "13071205746996859788"
     },
     "user_tz": -120
    },
    "id": "FmnGjffDT92V"
   },
   "outputs": [
    {
     "ename": "ModuleNotFoundError",
     "evalue": "No module named 'rdflib'",
     "output_type": "error",
     "traceback": [
      "\u001b[31m---------------------------------------------------------------------------\u001b[39m",
      "\u001b[31mModuleNotFoundError\u001b[39m                       Traceback (most recent call last)",
      "\u001b[36mCell\u001b[39m\u001b[36m \u001b[39m\u001b[32mIn[2]\u001b[39m\u001b[32m, line 1\u001b[39m\n\u001b[32m----> \u001b[39m\u001b[32m1\u001b[39m \u001b[38;5;28;01mfrom\u001b[39;00m\u001b[38;5;250m \u001b[39m\u001b[34;01mvalidation\u001b[39;00m\u001b[38;5;250m \u001b[39m\u001b[38;5;28;01mimport\u001b[39;00m Report\n",
      "\u001b[36mFile \u001b[39m\u001b[32mc:\\Clase\\KG\\GitHub\\Assigment4_Gonzalo_Hernández_24C060\\validation.py:1\u001b[39m\n\u001b[32m----> \u001b[39m\u001b[32m1\u001b[39m \u001b[38;5;28;01mfrom\u001b[39;00m\u001b[38;5;250m \u001b[39m\u001b[34;01mrdflib\u001b[39;00m\u001b[38;5;250m \u001b[39m\u001b[38;5;28;01mimport\u001b[39;00m Graph, Namespace, Literal, XSD\n\u001b[32m      2\u001b[39m \u001b[38;5;28;01mfrom\u001b[39;00m\u001b[38;5;250m \u001b[39m\u001b[34;01mrdflib\u001b[39;00m\u001b[34;01m.\u001b[39;00m\u001b[34;01mnamespace\u001b[39;00m\u001b[38;5;250m \u001b[39m\u001b[38;5;28;01mimport\u001b[39;00m RDF, RDFS\n\u001b[32m      4\u001b[39m VCARD = Namespace(\u001b[33m\"\u001b[39m\u001b[33mhttp://www.w3.org/2001/vcard-rdf/3.0/\u001b[39m\u001b[33m\"\u001b[39m)\n",
      "\u001b[31mModuleNotFoundError\u001b[39m: No module named 'rdflib'"
     ]
    }
   ],
   "source": [
    "from validation import Report"
   ]
  },
  {
   "cell_type": "markdown",
   "metadata": {
    "id": "XY7aPc86Bqoo"
   },
   "source": [
    "First let's read the RDF file"
   ]
  },
  {
   "cell_type": "code",
   "execution_count": null,
   "metadata": {
    "executionInfo": {
     "elapsed": 91,
     "status": "ok",
     "timestamp": 1761241616525,
     "user": {
      "displayName": "Gonzalo Hernandez Vaillo",
      "userId": "13071205746996859788"
     },
     "user_tz": -120
    },
    "id": "9ERh415on7kF"
   },
   "outputs": [],
   "source": [
    "from rdflib import Graph, Namespace, Literal\n",
    "from rdflib.namespace import RDF, RDFS\n",
    "# Do not change the name of the variables\n",
    "g = Graph()\n",
    "g.namespace_manager.bind('ns', Namespace(\"http://somewhere#\"), override=False)\n",
    "g.parse(github_storage+\"/rdf/data06.ttl\", format=\"TTL\")\n",
    "report = Report()"
   ]
  },
  {
   "cell_type": "markdown",
   "metadata": {
    "id": "qp1oe2Eddsvo"
   },
   "source": [
    "**TASK 7.1a: For all classes, list each classURI. If the class belogs to another class, then list its superclass.**\n",
    "**Do the exercise in RDFLib returning a list of Tuples: (class, superclass) called \"result\". If a class does not have a super class, then return None as the superclass**"
   ]
  },
  {
   "cell_type": "code",
   "execution_count": null,
   "metadata": {
    "colab": {
     "base_uri": "https://localhost:8080/"
    },
    "executionInfo": {
     "elapsed": 9,
     "status": "ok",
     "timestamp": 1761242287620,
     "user": {
      "displayName": "Gonzalo Hernandez Vaillo",
      "userId": "13071205746996859788"
     },
     "user_tz": -120
    },
    "id": "tRcSWuMHOXBl",
    "outputId": "167acaf6-2b9f-40c0-84ec-8c4050b976b4"
   },
   "outputs": [
    {
     "name": "stdout",
     "output_type": "stream",
     "text": [
      "(rdflib.term.URIRef('http://oeg.fi.upm.es/def/people#Person'), rdflib.term.URIRef('http://oeg.fi.upm.es/def/people#AssociateProfessor'))\n",
      "(rdflib.term.URIRef('http://oeg.fi.upm.es/def/people#Animal'), rdflib.term.URIRef('http://oeg.fi.upm.es/def/people#AssociateProfessor'))\n",
      "(rdflib.term.URIRef('http://oeg.fi.upm.es/def/people#Professor'), rdflib.term.URIRef('http://oeg.fi.upm.es/def/people#Person'))\n",
      "(rdflib.term.URIRef('http://oeg.fi.upm.es/def/people#Student'), rdflib.term.URIRef('http://oeg.fi.upm.es/def/people#Person'))\n",
      "(rdflib.term.URIRef('http://oeg.fi.upm.es/def/people#FullProfessor'), rdflib.term.URIRef('http://oeg.fi.upm.es/def/people#Professor'))\n",
      "(rdflib.term.URIRef('http://oeg.fi.upm.es/def/people#AssociateProfessor'), rdflib.term.URIRef('http://oeg.fi.upm.es/def/people#Professor'))\n",
      "(rdflib.term.URIRef('http://oeg.fi.upm.es/def/people#InterimAssociateProfessor'), rdflib.term.URIRef('http://oeg.fi.upm.es/def/people#AssociateProfessor'))\n"
     ]
    }
   ],
   "source": [
    "# TO DO\n",
    "#Lista classUri\n",
    "result=[]\n",
    "for sb in g.subjects(RDF.type, RDFS.Class):\n",
    "  sc=None\n",
    "  for Sc in g.objects(sb,RDFS.subClassOf):\n",
    "    sc=Sc\n",
    "  result.append((sb,Sc))\n",
    "for cl, sc in result:\n",
    "   short_c = g.namespace_manager.normalizeUri(cl)\n",
    "   short_sc = g.namespace_manager.normalizeUri(sc) if sc else None\n",
    "for r in result:\n",
    "  print(r)"
   ]
  },
  {
   "cell_type": "code",
   "execution_count": null,
   "metadata": {
    "colab": {
     "base_uri": "https://localhost:8080/"
    },
    "executionInfo": {
     "elapsed": 5,
     "status": "ok",
     "timestamp": 1761242289556,
     "user": {
      "displayName": "Gonzalo Hernandez Vaillo",
      "userId": "13071205746996859788"
     },
     "user_tz": -120
    },
    "id": "uvEpQQrTlMPH",
    "outputId": "8c9bd1d8-6428-47fb-b06f-c6d4874aba22"
   },
   "outputs": [
    {
     "name": "stdout",
     "output_type": "stream",
     "text": [
      "TASK 7.1a OK\n"
     ]
    }
   ],
   "source": [
    "## Validation: Do not remove\n",
    "report.validate_07_1a(result)"
   ]
  },
  {
   "cell_type": "markdown",
   "metadata": {
    "id": "kbY-jqw6klr9"
   },
   "source": [
    "**TASK 7.1b: Repeat the same exercise in SPARQL, returning the variables ?c (class) and ?sc (superclass)**"
   ]
  },
  {
   "cell_type": "code",
   "execution_count": null,
   "metadata": {
    "colab": {
     "base_uri": "https://localhost:8080/"
    },
    "executionInfo": {
     "elapsed": 45,
     "status": "ok",
     "timestamp": 1761242480558,
     "user": {
      "displayName": "Gonzalo Hernandez Vaillo",
      "userId": "13071205746996859788"
     },
     "user_tz": -120
    },
    "id": "NGAG7l9UklMC",
    "outputId": "aec82c1a-1643-49a0-bf08-483ff77483b9"
   },
   "outputs": [
    {
     "name": "stdout",
     "output_type": "stream",
     "text": [
      "http://oeg.fi.upm.es/def/people#Person None\n",
      "http://oeg.fi.upm.es/def/people#Animal None\n",
      "http://oeg.fi.upm.es/def/people#Professor http://oeg.fi.upm.es/def/people#Person\n",
      "http://oeg.fi.upm.es/def/people#Student http://oeg.fi.upm.es/def/people#Person\n",
      "http://oeg.fi.upm.es/def/people#FullProfessor http://oeg.fi.upm.es/def/people#Professor\n",
      "http://oeg.fi.upm.es/def/people#AssociateProfessor http://oeg.fi.upm.es/def/people#Professor\n",
      "http://oeg.fi.upm.es/def/people#InterimAssociateProfessor http://oeg.fi.upm.es/def/people#AssociateProfessor\n"
     ]
    }
   ],
   "source": [
    "query =  \"Select ?c ?sc WHERE {?c rdf:type rdfs:Class. OPTIONAL {?c rdfs:subClassOf ?sc.}}\"\n",
    "\n",
    "for r in g.query(query):\n",
    "  print(r.c, r.sc)\n"
   ]
  },
  {
   "cell_type": "code",
   "execution_count": null,
   "metadata": {
    "colab": {
     "base_uri": "https://localhost:8080/"
    },
    "executionInfo": {
     "elapsed": 17,
     "status": "ok",
     "timestamp": 1761242482582,
     "user": {
      "displayName": "Gonzalo Hernandez Vaillo",
      "userId": "13071205746996859788"
     },
     "user_tz": -120
    },
    "id": "9zf4vgVHlKR3",
    "outputId": "4294c94d-0b20-4352-c483-3b83ba9fc2fb"
   },
   "outputs": [
    {
     "name": "stdout",
     "output_type": "stream",
     "text": [
      "TASK 7.1b OK\n"
     ]
    }
   ],
   "source": [
    "## Validation: Do not remove\n",
    "report.validate_07_1b(query,g)"
   ]
  },
  {
   "cell_type": "markdown",
   "metadata": {
    "id": "gM3DASkTQQ5Y"
   },
   "source": [
    "**TASK 7.2a: List all individuals of \"Person\" with RDFLib (remember the subClasses). Return the individual URIs in a list called \"individuals\"**\n"
   ]
  },
  {
   "cell_type": "code",
   "execution_count": null,
   "metadata": {
    "colab": {
     "base_uri": "https://localhost:8080/"
    },
    "executionInfo": {
     "elapsed": 49,
     "status": "ok",
     "timestamp": 1761243807271,
     "user": {
      "displayName": "Gonzalo Hernandez Vaillo",
      "userId": "13071205746996859788"
     },
     "user_tz": -120
    },
    "id": "LiKSPHRzS-XJ",
    "outputId": "b52dfb9d-10ff-40b9-c844-62190a16a65d"
   },
   "outputs": [
    {
     "name": "stdout",
     "output_type": "stream",
     "text": [
      "http://oeg.fi.upm.es/def/people#Asun\n",
      "http://oeg.fi.upm.es/def/people#Oscar\n",
      "http://oeg.fi.upm.es/def/people#Raul\n"
     ]
    }
   ],
   "source": [
    "ns = Namespace(\"http://oeg.fi.upm.es/def/people#\")\n",
    "\n",
    "# variable to return\n",
    "individuals = []\n",
    "def subclases(cl):\n",
    "  sb=[]\n",
    "  for s,p,o in g.triples((None,RDFS.subClassOf,cl)):\n",
    "    sb.append(s)\n",
    "    sb += subclases(s)\n",
    "  return sb\n",
    "clases= subclases(ns.Person)\n",
    "clases.append(ns.Person)\n",
    "for cl in clases:\n",
    "  for s,p,o in g.triples((None,RDF.type,cl)):\n",
    "    individuals.append(s)\n",
    "# visualize results\n",
    "for i in individuals:\n",
    "  print(i)"
   ]
  },
  {
   "cell_type": "code",
   "execution_count": null,
   "metadata": {
    "colab": {
     "base_uri": "https://localhost:8080/"
    },
    "executionInfo": {
     "elapsed": 18,
     "status": "ok",
     "timestamp": 1761243810074,
     "user": {
      "displayName": "Gonzalo Hernandez Vaillo",
      "userId": "13071205746996859788"
     },
     "user_tz": -120
    },
    "id": "ONrAls5uiX1G",
    "outputId": "b7e389d9-4f71-425f-df0e-d4e1bd308907"
   },
   "outputs": [
    {
     "name": "stdout",
     "output_type": "stream",
     "text": [
      "TASK 7.2a OK\n"
     ]
    }
   ],
   "source": [
    "# validation. Do not remove\n",
    "report.validate_07_02a(individuals)"
   ]
  },
  {
   "cell_type": "markdown",
   "metadata": {
    "id": "up-952A-za7A"
   },
   "source": [
    "**TASK 7.2b: Repeat the same exercise in SPARQL, returning the individual URIs in a variable ?ind**"
   ]
  },
  {
   "cell_type": "code",
   "execution_count": null,
   "metadata": {
    "colab": {
     "base_uri": "https://localhost:8080/"
    },
    "executionInfo": {
     "elapsed": 23,
     "status": "ok",
     "timestamp": 1761243995727,
     "user": {
      "displayName": "Gonzalo Hernandez Vaillo",
      "userId": "13071205746996859788"
     },
     "user_tz": -120
    },
    "id": "ipYiEVbTzbR0",
    "outputId": "1494aa3a-ef9d-4185-b412-e6dd66e07fae"
   },
   "outputs": [
    {
     "name": "stdout",
     "output_type": "stream",
     "text": [
      "http://oeg.fi.upm.es/def/people#Asun\n",
      "http://oeg.fi.upm.es/def/people#Oscar\n",
      "http://oeg.fi.upm.es/def/people#Raul\n"
     ]
    }
   ],
   "source": [
    "query =  \"SELECT ?ind WHERE{?c rdfs:subClassOf* <http://oeg.fi.upm.es/def/people#Person>. ?ind a ?c}\"\n",
    "\n",
    "for r in g.query(query):\n",
    "  print(r.ind)\n",
    "# Visualize the results"
   ]
  },
  {
   "cell_type": "code",
   "execution_count": null,
   "metadata": {
    "colab": {
     "base_uri": "https://localhost:8080/"
    },
    "executionInfo": {
     "elapsed": 17,
     "status": "ok",
     "timestamp": 1761244027657,
     "user": {
      "displayName": "Gonzalo Hernandez Vaillo",
      "userId": "13071205746996859788"
     },
     "user_tz": -120
    },
    "id": "s-Hu2LxRjUQt",
    "outputId": "a7b70ca9-558d-483b-93f5-b86201904056"
   },
   "outputs": [
    {
     "name": "stdout",
     "output_type": "stream",
     "text": [
      "TASK 7.2b OK\n"
     ]
    }
   ],
   "source": [
    "## Validation: Do not remove\n",
    "report.validate_07_02b(g, query)"
   ]
  },
  {
   "cell_type": "markdown",
   "metadata": {
    "id": "3NyI7M2VNr9R"
   },
   "source": [
    "**TASK 7.3:  List the name and type of those who know Rocky (in SPARQL only). Use name and type as variables in the query**"
   ]
  },
  {
   "cell_type": "code",
   "execution_count": null,
   "metadata": {
    "colab": {
     "base_uri": "https://localhost:8080/"
    },
    "executionInfo": {
     "elapsed": 40,
     "status": "ok",
     "timestamp": 1761244226601,
     "user": {
      "displayName": "Gonzalo Hernandez Vaillo",
      "userId": "13071205746996859788"
     },
     "user_tz": -120
    },
    "id": "I_CNoIKdNpbx",
    "outputId": "0b78e861-9e2c-414a-f12d-a2d8126cbed9"
   },
   "outputs": [
    {
     "name": "stdout",
     "output_type": "stream",
     "text": [
      "http://oeg.fi.upm.es/def/people#Asun http://oeg.fi.upm.es/def/people#FullProfessor\n",
      "http://oeg.fi.upm.es/def/people#Raul http://oeg.fi.upm.es/def/people#InterimAssociateProfessor\n",
      "http://oeg.fi.upm.es/def/people#Fantasma http://oeg.fi.upm.es/def/people#Animal\n"
     ]
    }
   ],
   "source": [
    "query =  \"\"\"SELECT ?name ?type WHERE{\n",
    "  ?name <http://oeg.fi.upm.es/def/people#knows> <http://oeg.fi.upm.es/def/people#Rocky>.\n",
    "  ?name rdf:type ?type.}\"\"\"\n",
    "# TO DO\n",
    "# Visualize the results\n",
    "for r in g.query(query):\n",
    "  print(r.name, r.type)\n"
   ]
  },
  {
   "cell_type": "code",
   "execution_count": null,
   "metadata": {
    "colab": {
     "base_uri": "https://localhost:8080/"
    },
    "executionInfo": {
     "elapsed": 9,
     "status": "ok",
     "timestamp": 1761244228693,
     "user": {
      "displayName": "Gonzalo Hernandez Vaillo",
      "userId": "13071205746996859788"
     },
     "user_tz": -120
    },
    "id": "Zf3JS7tEhS2t",
    "outputId": "92b68ec3-6c93-4805-ebb2-bd6b851628ca"
   },
   "outputs": [
    {
     "name": "stdout",
     "output_type": "stream",
     "text": [
      "TASK 7.3 OK\n"
     ]
    }
   ],
   "source": [
    "## Validation: Do not remove\n",
    "report.validate_07_03(g, query)"
   ]
  },
  {
   "cell_type": "markdown",
   "metadata": {
    "id": "kyjGsyxDPa2C"
   },
   "source": [
    "**Task 7.4: List the name of those entities who have a colleague with a dog, or that have a collegue who has a colleague who has a dog (in SPARQL). Return the results in a variable called name**"
   ]
  },
  {
   "cell_type": "code",
   "execution_count": null,
   "metadata": {
    "colab": {
     "base_uri": "https://localhost:8080/"
    },
    "executionInfo": {
     "elapsed": 20,
     "status": "ok",
     "timestamp": 1761244939502,
     "user": {
      "displayName": "Gonzalo Hernandez Vaillo",
      "userId": "13071205746996859788"
     },
     "user_tz": -120
    },
    "id": "yoVwVZUAPaLm",
    "outputId": "69bb43dd-b136-4afc-9a37-c888fe532ee2"
   },
   "outputs": [
    {
     "name": "stdout",
     "output_type": "stream",
     "text": [
      "http://oeg.fi.upm.es/def/people#Asun\n",
      "http://oeg.fi.upm.es/def/people#Oscar\n",
      "http://oeg.fi.upm.es/def/people#Raul\n"
     ]
    }
   ],
   "source": [
    "query =  \"\"\"\n",
    "PREFIX people: <http://oeg.fi.upm.es/def/people#>\n",
    "Select ?name WHERE{\n",
    "  { ?name people:hasColleague ?c1.\n",
    "    ?c1 people:ownsPet ?dog.}\n",
    "    UNION{\n",
    "    ?name people:hasColleague ?c2.\n",
    "    ?c2 people:hasColleague ?c3.\n",
    "    ?c3 people:ownsPet ?dog.}\n",
    "  }\n",
    "\"\"\"\n",
    "\n",
    "for r in g.query(query):\n",
    "  print(r.name)\n",
    "\n",
    "# TO DO\n",
    "# Visualize the results"
   ]
  },
  {
   "cell_type": "code",
   "execution_count": null,
   "metadata": {
    "colab": {
     "base_uri": "https://localhost:8080/"
    },
    "executionInfo": {
     "elapsed": 27,
     "status": "ok",
     "timestamp": 1761244942138,
     "user": {
      "displayName": "Gonzalo Hernandez Vaillo",
      "userId": "13071205746996859788"
     },
     "user_tz": -120
    },
    "id": "zcTZE7ngj2fc",
    "outputId": "858ccad3-d30c-4dd4-ce5a-5e427c445495"
   },
   "outputs": [
    {
     "name": "stdout",
     "output_type": "stream",
     "text": [
      "TASK 7.4 OK\n"
     ]
    }
   ],
   "source": [
    "## Validation: Do not remove\n",
    "report.validate_07_04(g,query)\n",
    "report.save_report(\"_Task_07\")"
   ]
  }
 ],
 "metadata": {
  "colab": {
   "provenance": []
  },
  "kernelspec": {
   "display_name": "Python 3",
   "language": "python",
   "name": "python3"
  },
  "language_info": {
   "codemirror_mode": {
    "name": "ipython",
    "version": 3
   },
   "file_extension": ".py",
   "mimetype": "text/x-python",
   "name": "python",
   "nbconvert_exporter": "python",
   "pygments_lexer": "ipython3",
   "version": "3.12.6"
  }
 },
 "nbformat": 4,
 "nbformat_minor": 0
}
